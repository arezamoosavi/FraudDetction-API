{
 "cells": [
  {
   "cell_type": "markdown",
   "metadata": {},
   "source": [
    "# Credit Card Fraud Detection\n",
    "\n",
    "## What is Credit Card Fraud?\n",
    "Credit card fraud is when someone uses another person's credit card or account information to make unauthorized purchases or access funds through cash advances. Credit card fraud doesn’t just happen online; it happens in brick-and-mortar stores, too. As a business owner, you can avoid serious headaches – and unwanted publicity – by recognizing potentially fraudulent use of credit cards in your payment environment.\n",
    "\n",
    "## Three challenges surrounding credit card fraud\n",
    "\n",
    "1. It's not always easy to agree on ground truth for what \"fraud\" means.\n",
    "2. Regardless of how you define ground truth, the vast majority of charges are not fraudulent.\n",
    "3. Most merchants aren't experts at evaluating the business impact of fraud.\n",
    "\n",
    "## Problem Statement:\n",
    "\n",
    "The Credit Card Fraud Detection Problem includes modeling past credit card transactions with the knowledge of the ones that turned out to be a fraud. This model is then used to identify whether a new transaction is fraudulent or not. Our aim here is to detect 100% of the fraudulent transactions while minimizing the incorrect fraud classifications.\n",
    "\n",
    "\n",
    "## Observations\n",
    "- Very few transactions are actually fraudulent (less than 1%). The data set is highly skewed, consisting of `492` frauds in a total of `284,807` observations. This resulted in only `0.172%` fraud cases. This skewed set is justified by the low number of fraudulent transactions.\n",
    "- The dataset consists of numerical values from the `28` ‘Principal Component Analysis (PCA)’ transformed features, namely V1 to V28. Furthermore, there is no metadata about the original features provided, so pre-analysis or feature study could not be done.\n",
    "- The ‘Time’ and ‘Amount’ features are not transformed data.\n",
    "- There is no missing value in the dataset.\n",
    "\n",
    "## Why does class imbalanced affect model performance?\n",
    "\n",
    "- In general, we want to maximize the recall while capping FPR (False Positive Rate), but you can classify a lot of charges wrong and still maintain a low FPR because you have a large number of true negatives.\n",
    "- This is conducive to picking a relatively low threshold, which results in the high recall but extremely low precision.\n",
    "\n",
    "## What is the catch?\n",
    "- Training a model on a balanced dataset optimizes performance on validation data.\n",
    "- However, the goal is to optimize performance on the imbalanced production dataset. You ultimately need to find a balance that works best in production.\n",
    "- One solution to this problem is: Use all fraudulent transactions, but subsample non-fraudulent transactions as needed to hit our target rate.\n",
    "\n",
    "## Business questions to brainstorm:\n",
    "Since all features are anonymous, we will focus our analysis on non-anonymized features: `Time`, `Amount`\n",
    "1. How different is the amount of money used in different transaction classes?\n",
    "2. Do fraudulent transactions occur more often during a certain frames?\n"
   ]
  },
  {
   "cell_type": "code",
   "execution_count": 2,
   "metadata": {},
   "outputs": [],
   "source": [
    "import pandas as pd\n",
    "import numpy as np\n",
    "import matplotlib.pyplot as plt\n",
    "import seaborn as sns\n",
    "\n",
    "%matplotlib inline\n",
    "sns.set_style(\"whitegrid\")"
   ]
  },
  {
   "cell_type": "code",
   "execution_count": 3,
   "metadata": {},
   "outputs": [
    {
     "name": "stdout",
     "output_type": "stream",
     "text": [
      "app.py\tcreditcard.csv\tnotebook.ipynb\n"
     ]
    }
   ],
   "source": [
    "!ls"
   ]
  },
  {
   "cell_type": "code",
   "execution_count": 4,
   "metadata": {},
   "outputs": [
    {
     "data": {
      "text/html": [
       "<div>\n",
       "<style scoped>\n",
       "    .dataframe tbody tr th:only-of-type {\n",
       "        vertical-align: middle;\n",
       "    }\n",
       "\n",
       "    .dataframe tbody tr th {\n",
       "        vertical-align: top;\n",
       "    }\n",
       "\n",
       "    .dataframe thead th {\n",
       "        text-align: right;\n",
       "    }\n",
       "</style>\n",
       "<table border=\"1\" class=\"dataframe\">\n",
       "  <thead>\n",
       "    <tr style=\"text-align: right;\">\n",
       "      <th></th>\n",
       "      <th>Time</th>\n",
       "      <th>V1</th>\n",
       "      <th>V2</th>\n",
       "      <th>V3</th>\n",
       "      <th>V4</th>\n",
       "      <th>V5</th>\n",
       "      <th>V6</th>\n",
       "      <th>V7</th>\n",
       "      <th>V8</th>\n",
       "      <th>V9</th>\n",
       "      <th>...</th>\n",
       "      <th>V21</th>\n",
       "      <th>V22</th>\n",
       "      <th>V23</th>\n",
       "      <th>V24</th>\n",
       "      <th>V25</th>\n",
       "      <th>V26</th>\n",
       "      <th>V27</th>\n",
       "      <th>V28</th>\n",
       "      <th>Amount</th>\n",
       "      <th>Class</th>\n",
       "    </tr>\n",
       "  </thead>\n",
       "  <tbody>\n",
       "    <tr>\n",
       "      <th>0</th>\n",
       "      <td>0.0</td>\n",
       "      <td>-1.359807</td>\n",
       "      <td>-0.072781</td>\n",
       "      <td>2.536347</td>\n",
       "      <td>1.378155</td>\n",
       "      <td>-0.338321</td>\n",
       "      <td>0.462388</td>\n",
       "      <td>0.239599</td>\n",
       "      <td>0.098698</td>\n",
       "      <td>0.363787</td>\n",
       "      <td>...</td>\n",
       "      <td>-0.018307</td>\n",
       "      <td>0.277838</td>\n",
       "      <td>-0.110474</td>\n",
       "      <td>0.066928</td>\n",
       "      <td>0.128539</td>\n",
       "      <td>-0.189115</td>\n",
       "      <td>0.133558</td>\n",
       "      <td>-0.021053</td>\n",
       "      <td>149.62</td>\n",
       "      <td>0</td>\n",
       "    </tr>\n",
       "    <tr>\n",
       "      <th>1</th>\n",
       "      <td>0.0</td>\n",
       "      <td>1.191857</td>\n",
       "      <td>0.266151</td>\n",
       "      <td>0.166480</td>\n",
       "      <td>0.448154</td>\n",
       "      <td>0.060018</td>\n",
       "      <td>-0.082361</td>\n",
       "      <td>-0.078803</td>\n",
       "      <td>0.085102</td>\n",
       "      <td>-0.255425</td>\n",
       "      <td>...</td>\n",
       "      <td>-0.225775</td>\n",
       "      <td>-0.638672</td>\n",
       "      <td>0.101288</td>\n",
       "      <td>-0.339846</td>\n",
       "      <td>0.167170</td>\n",
       "      <td>0.125895</td>\n",
       "      <td>-0.008983</td>\n",
       "      <td>0.014724</td>\n",
       "      <td>2.69</td>\n",
       "      <td>0</td>\n",
       "    </tr>\n",
       "    <tr>\n",
       "      <th>2</th>\n",
       "      <td>1.0</td>\n",
       "      <td>-1.358354</td>\n",
       "      <td>-1.340163</td>\n",
       "      <td>1.773209</td>\n",
       "      <td>0.379780</td>\n",
       "      <td>-0.503198</td>\n",
       "      <td>1.800499</td>\n",
       "      <td>0.791461</td>\n",
       "      <td>0.247676</td>\n",
       "      <td>-1.514654</td>\n",
       "      <td>...</td>\n",
       "      <td>0.247998</td>\n",
       "      <td>0.771679</td>\n",
       "      <td>0.909412</td>\n",
       "      <td>-0.689281</td>\n",
       "      <td>-0.327642</td>\n",
       "      <td>-0.139097</td>\n",
       "      <td>-0.055353</td>\n",
       "      <td>-0.059752</td>\n",
       "      <td>378.66</td>\n",
       "      <td>0</td>\n",
       "    </tr>\n",
       "    <tr>\n",
       "      <th>3</th>\n",
       "      <td>1.0</td>\n",
       "      <td>-0.966272</td>\n",
       "      <td>-0.185226</td>\n",
       "      <td>1.792993</td>\n",
       "      <td>-0.863291</td>\n",
       "      <td>-0.010309</td>\n",
       "      <td>1.247203</td>\n",
       "      <td>0.237609</td>\n",
       "      <td>0.377436</td>\n",
       "      <td>-1.387024</td>\n",
       "      <td>...</td>\n",
       "      <td>-0.108300</td>\n",
       "      <td>0.005274</td>\n",
       "      <td>-0.190321</td>\n",
       "      <td>-1.175575</td>\n",
       "      <td>0.647376</td>\n",
       "      <td>-0.221929</td>\n",
       "      <td>0.062723</td>\n",
       "      <td>0.061458</td>\n",
       "      <td>123.50</td>\n",
       "      <td>0</td>\n",
       "    </tr>\n",
       "    <tr>\n",
       "      <th>4</th>\n",
       "      <td>2.0</td>\n",
       "      <td>-1.158233</td>\n",
       "      <td>0.877737</td>\n",
       "      <td>1.548718</td>\n",
       "      <td>0.403034</td>\n",
       "      <td>-0.407193</td>\n",
       "      <td>0.095921</td>\n",
       "      <td>0.592941</td>\n",
       "      <td>-0.270533</td>\n",
       "      <td>0.817739</td>\n",
       "      <td>...</td>\n",
       "      <td>-0.009431</td>\n",
       "      <td>0.798278</td>\n",
       "      <td>-0.137458</td>\n",
       "      <td>0.141267</td>\n",
       "      <td>-0.206010</td>\n",
       "      <td>0.502292</td>\n",
       "      <td>0.219422</td>\n",
       "      <td>0.215153</td>\n",
       "      <td>69.99</td>\n",
       "      <td>0</td>\n",
       "    </tr>\n",
       "  </tbody>\n",
       "</table>\n",
       "<p>5 rows × 31 columns</p>\n",
       "</div>"
      ],
      "text/plain": [
       "   Time        V1        V2        V3        V4        V5        V6        V7  \\\n",
       "0   0.0 -1.359807 -0.072781  2.536347  1.378155 -0.338321  0.462388  0.239599   \n",
       "1   0.0  1.191857  0.266151  0.166480  0.448154  0.060018 -0.082361 -0.078803   \n",
       "2   1.0 -1.358354 -1.340163  1.773209  0.379780 -0.503198  1.800499  0.791461   \n",
       "3   1.0 -0.966272 -0.185226  1.792993 -0.863291 -0.010309  1.247203  0.237609   \n",
       "4   2.0 -1.158233  0.877737  1.548718  0.403034 -0.407193  0.095921  0.592941   \n",
       "\n",
       "         V8        V9  ...       V21       V22       V23       V24       V25  \\\n",
       "0  0.098698  0.363787  ... -0.018307  0.277838 -0.110474  0.066928  0.128539   \n",
       "1  0.085102 -0.255425  ... -0.225775 -0.638672  0.101288 -0.339846  0.167170   \n",
       "2  0.247676 -1.514654  ...  0.247998  0.771679  0.909412 -0.689281 -0.327642   \n",
       "3  0.377436 -1.387024  ... -0.108300  0.005274 -0.190321 -1.175575  0.647376   \n",
       "4 -0.270533  0.817739  ... -0.009431  0.798278 -0.137458  0.141267 -0.206010   \n",
       "\n",
       "        V26       V27       V28  Amount  Class  \n",
       "0 -0.189115  0.133558 -0.021053  149.62      0  \n",
       "1  0.125895 -0.008983  0.014724    2.69      0  \n",
       "2 -0.139097 -0.055353 -0.059752  378.66      0  \n",
       "3 -0.221929  0.062723  0.061458  123.50      0  \n",
       "4  0.502292  0.219422  0.215153   69.99      0  \n",
       "\n",
       "[5 rows x 31 columns]"
      ]
     },
     "execution_count": 4,
     "metadata": {},
     "output_type": "execute_result"
    }
   ],
   "source": [
    "data = pd.read_csv(\"creditcard.csv\")\n",
    "data.head()"
   ]
  },
  {
   "cell_type": "markdown",
   "metadata": {},
   "source": [
    "# 1. Exploratory Data Analysis\n"
   ]
  },
  {
   "cell_type": "code",
   "execution_count": 5,
   "metadata": {
    "_kg_hide-output": true
   },
   "outputs": [
    {
     "name": "stdout",
     "output_type": "stream",
     "text": [
      "<class 'pandas.core.frame.DataFrame'>\n",
      "RangeIndex: 284807 entries, 0 to 284806\n",
      "Data columns (total 31 columns):\n",
      " #   Column  Non-Null Count   Dtype  \n",
      "---  ------  --------------   -----  \n",
      " 0   Time    284807 non-null  float64\n",
      " 1   V1      284807 non-null  float64\n",
      " 2   V2      284807 non-null  float64\n",
      " 3   V3      284807 non-null  float64\n",
      " 4   V4      284807 non-null  float64\n",
      " 5   V5      284807 non-null  float64\n",
      " 6   V6      284807 non-null  float64\n",
      " 7   V7      284807 non-null  float64\n",
      " 8   V8      284807 non-null  float64\n",
      " 9   V9      284807 non-null  float64\n",
      " 10  V10     284807 non-null  float64\n",
      " 11  V11     284807 non-null  float64\n",
      " 12  V12     284807 non-null  float64\n",
      " 13  V13     284807 non-null  float64\n",
      " 14  V14     284807 non-null  float64\n",
      " 15  V15     284807 non-null  float64\n",
      " 16  V16     284807 non-null  float64\n",
      " 17  V17     284807 non-null  float64\n",
      " 18  V18     284807 non-null  float64\n",
      " 19  V19     284807 non-null  float64\n",
      " 20  V20     284807 non-null  float64\n",
      " 21  V21     284807 non-null  float64\n",
      " 22  V22     284807 non-null  float64\n",
      " 23  V23     284807 non-null  float64\n",
      " 24  V24     284807 non-null  float64\n",
      " 25  V25     284807 non-null  float64\n",
      " 26  V26     284807 non-null  float64\n",
      " 27  V27     284807 non-null  float64\n",
      " 28  V28     284807 non-null  float64\n",
      " 29  Amount  284807 non-null  float64\n",
      " 30  Class   284807 non-null  int64  \n",
      "dtypes: float64(30), int64(1)\n",
      "memory usage: 67.4 MB\n"
     ]
    }
   ],
   "source": [
    "data.info()"
   ]
  },
  {
   "cell_type": "code",
   "execution_count": 6,
   "metadata": {},
   "outputs": [
    {
     "data": {
      "text/html": [
       "<div>\n",
       "<style scoped>\n",
       "    .dataframe tbody tr th:only-of-type {\n",
       "        vertical-align: middle;\n",
       "    }\n",
       "\n",
       "    .dataframe tbody tr th {\n",
       "        vertical-align: top;\n",
       "    }\n",
       "\n",
       "    .dataframe thead th {\n",
       "        text-align: right;\n",
       "    }\n",
       "</style>\n",
       "<table border=\"1\" class=\"dataframe\">\n",
       "  <thead>\n",
       "    <tr style=\"text-align: right;\">\n",
       "      <th></th>\n",
       "      <th>Time</th>\n",
       "      <th>V1</th>\n",
       "      <th>V2</th>\n",
       "      <th>V3</th>\n",
       "      <th>V4</th>\n",
       "      <th>V5</th>\n",
       "      <th>V6</th>\n",
       "      <th>V7</th>\n",
       "      <th>V8</th>\n",
       "      <th>V9</th>\n",
       "      <th>...</th>\n",
       "      <th>V21</th>\n",
       "      <th>V22</th>\n",
       "      <th>V23</th>\n",
       "      <th>V24</th>\n",
       "      <th>V25</th>\n",
       "      <th>V26</th>\n",
       "      <th>V27</th>\n",
       "      <th>V28</th>\n",
       "      <th>Amount</th>\n",
       "      <th>Class</th>\n",
       "    </tr>\n",
       "  </thead>\n",
       "  <tbody>\n",
       "    <tr>\n",
       "      <th>count</th>\n",
       "      <td>284807.00</td>\n",
       "      <td>284807.00</td>\n",
       "      <td>284807.00</td>\n",
       "      <td>284807.00</td>\n",
       "      <td>284807.00</td>\n",
       "      <td>284807.00</td>\n",
       "      <td>284807.00</td>\n",
       "      <td>284807.00</td>\n",
       "      <td>284807.00</td>\n",
       "      <td>284807.00</td>\n",
       "      <td>...</td>\n",
       "      <td>284807.00</td>\n",
       "      <td>284807.00</td>\n",
       "      <td>284807.00</td>\n",
       "      <td>284807.00</td>\n",
       "      <td>284807.00</td>\n",
       "      <td>284807.00</td>\n",
       "      <td>284807.00</td>\n",
       "      <td>284807.00</td>\n",
       "      <td>284807.00</td>\n",
       "      <td>284807.00</td>\n",
       "    </tr>\n",
       "    <tr>\n",
       "      <th>mean</th>\n",
       "      <td>94813.86</td>\n",
       "      <td>0.00</td>\n",
       "      <td>0.00</td>\n",
       "      <td>-0.00</td>\n",
       "      <td>0.00</td>\n",
       "      <td>0.00</td>\n",
       "      <td>0.00</td>\n",
       "      <td>-0.00</td>\n",
       "      <td>0.00</td>\n",
       "      <td>-0.00</td>\n",
       "      <td>...</td>\n",
       "      <td>0.00</td>\n",
       "      <td>-0.00</td>\n",
       "      <td>0.00</td>\n",
       "      <td>0.00</td>\n",
       "      <td>0.00</td>\n",
       "      <td>0.00</td>\n",
       "      <td>-0.00</td>\n",
       "      <td>-0.00</td>\n",
       "      <td>88.35</td>\n",
       "      <td>0.00</td>\n",
       "    </tr>\n",
       "    <tr>\n",
       "      <th>std</th>\n",
       "      <td>47488.15</td>\n",
       "      <td>1.96</td>\n",
       "      <td>1.65</td>\n",
       "      <td>1.52</td>\n",
       "      <td>1.42</td>\n",
       "      <td>1.38</td>\n",
       "      <td>1.33</td>\n",
       "      <td>1.24</td>\n",
       "      <td>1.19</td>\n",
       "      <td>1.10</td>\n",
       "      <td>...</td>\n",
       "      <td>0.73</td>\n",
       "      <td>0.73</td>\n",
       "      <td>0.62</td>\n",
       "      <td>0.61</td>\n",
       "      <td>0.52</td>\n",
       "      <td>0.48</td>\n",
       "      <td>0.40</td>\n",
       "      <td>0.33</td>\n",
       "      <td>250.12</td>\n",
       "      <td>0.04</td>\n",
       "    </tr>\n",
       "    <tr>\n",
       "      <th>min</th>\n",
       "      <td>0.00</td>\n",
       "      <td>-56.41</td>\n",
       "      <td>-72.72</td>\n",
       "      <td>-48.33</td>\n",
       "      <td>-5.68</td>\n",
       "      <td>-113.74</td>\n",
       "      <td>-26.16</td>\n",
       "      <td>-43.56</td>\n",
       "      <td>-73.22</td>\n",
       "      <td>-13.43</td>\n",
       "      <td>...</td>\n",
       "      <td>-34.83</td>\n",
       "      <td>-10.93</td>\n",
       "      <td>-44.81</td>\n",
       "      <td>-2.84</td>\n",
       "      <td>-10.30</td>\n",
       "      <td>-2.60</td>\n",
       "      <td>-22.57</td>\n",
       "      <td>-15.43</td>\n",
       "      <td>0.00</td>\n",
       "      <td>0.00</td>\n",
       "    </tr>\n",
       "    <tr>\n",
       "      <th>25%</th>\n",
       "      <td>54201.50</td>\n",
       "      <td>-0.92</td>\n",
       "      <td>-0.60</td>\n",
       "      <td>-0.89</td>\n",
       "      <td>-0.85</td>\n",
       "      <td>-0.69</td>\n",
       "      <td>-0.77</td>\n",
       "      <td>-0.55</td>\n",
       "      <td>-0.21</td>\n",
       "      <td>-0.64</td>\n",
       "      <td>...</td>\n",
       "      <td>-0.23</td>\n",
       "      <td>-0.54</td>\n",
       "      <td>-0.16</td>\n",
       "      <td>-0.35</td>\n",
       "      <td>-0.32</td>\n",
       "      <td>-0.33</td>\n",
       "      <td>-0.07</td>\n",
       "      <td>-0.05</td>\n",
       "      <td>5.60</td>\n",
       "      <td>0.00</td>\n",
       "    </tr>\n",
       "    <tr>\n",
       "      <th>50%</th>\n",
       "      <td>84692.00</td>\n",
       "      <td>0.02</td>\n",
       "      <td>0.07</td>\n",
       "      <td>0.18</td>\n",
       "      <td>-0.02</td>\n",
       "      <td>-0.05</td>\n",
       "      <td>-0.27</td>\n",
       "      <td>0.04</td>\n",
       "      <td>0.02</td>\n",
       "      <td>-0.05</td>\n",
       "      <td>...</td>\n",
       "      <td>-0.03</td>\n",
       "      <td>0.01</td>\n",
       "      <td>-0.01</td>\n",
       "      <td>0.04</td>\n",
       "      <td>0.02</td>\n",
       "      <td>-0.05</td>\n",
       "      <td>0.00</td>\n",
       "      <td>0.01</td>\n",
       "      <td>22.00</td>\n",
       "      <td>0.00</td>\n",
       "    </tr>\n",
       "    <tr>\n",
       "      <th>75%</th>\n",
       "      <td>139320.50</td>\n",
       "      <td>1.32</td>\n",
       "      <td>0.80</td>\n",
       "      <td>1.03</td>\n",
       "      <td>0.74</td>\n",
       "      <td>0.61</td>\n",
       "      <td>0.40</td>\n",
       "      <td>0.57</td>\n",
       "      <td>0.33</td>\n",
       "      <td>0.60</td>\n",
       "      <td>...</td>\n",
       "      <td>0.19</td>\n",
       "      <td>0.53</td>\n",
       "      <td>0.15</td>\n",
       "      <td>0.44</td>\n",
       "      <td>0.35</td>\n",
       "      <td>0.24</td>\n",
       "      <td>0.09</td>\n",
       "      <td>0.08</td>\n",
       "      <td>77.16</td>\n",
       "      <td>0.00</td>\n",
       "    </tr>\n",
       "    <tr>\n",
       "      <th>max</th>\n",
       "      <td>172792.00</td>\n",
       "      <td>2.45</td>\n",
       "      <td>22.06</td>\n",
       "      <td>9.38</td>\n",
       "      <td>16.88</td>\n",
       "      <td>34.80</td>\n",
       "      <td>73.30</td>\n",
       "      <td>120.59</td>\n",
       "      <td>20.01</td>\n",
       "      <td>15.59</td>\n",
       "      <td>...</td>\n",
       "      <td>27.20</td>\n",
       "      <td>10.50</td>\n",
       "      <td>22.53</td>\n",
       "      <td>4.58</td>\n",
       "      <td>7.52</td>\n",
       "      <td>3.52</td>\n",
       "      <td>31.61</td>\n",
       "      <td>33.85</td>\n",
       "      <td>25691.16</td>\n",
       "      <td>1.00</td>\n",
       "    </tr>\n",
       "  </tbody>\n",
       "</table>\n",
       "<p>8 rows × 31 columns</p>\n",
       "</div>"
      ],
      "text/plain": [
       "           Time        V1        V2        V3        V4        V5        V6  \\\n",
       "count 284807.00 284807.00 284807.00 284807.00 284807.00 284807.00 284807.00   \n",
       "mean   94813.86      0.00      0.00     -0.00      0.00      0.00      0.00   \n",
       "std    47488.15      1.96      1.65      1.52      1.42      1.38      1.33   \n",
       "min        0.00    -56.41    -72.72    -48.33     -5.68   -113.74    -26.16   \n",
       "25%    54201.50     -0.92     -0.60     -0.89     -0.85     -0.69     -0.77   \n",
       "50%    84692.00      0.02      0.07      0.18     -0.02     -0.05     -0.27   \n",
       "75%   139320.50      1.32      0.80      1.03      0.74      0.61      0.40   \n",
       "max   172792.00      2.45     22.06      9.38     16.88     34.80     73.30   \n",
       "\n",
       "             V7        V8        V9  ...       V21       V22       V23  \\\n",
       "count 284807.00 284807.00 284807.00  ... 284807.00 284807.00 284807.00   \n",
       "mean      -0.00      0.00     -0.00  ...      0.00     -0.00      0.00   \n",
       "std        1.24      1.19      1.10  ...      0.73      0.73      0.62   \n",
       "min      -43.56    -73.22    -13.43  ...    -34.83    -10.93    -44.81   \n",
       "25%       -0.55     -0.21     -0.64  ...     -0.23     -0.54     -0.16   \n",
       "50%        0.04      0.02     -0.05  ...     -0.03      0.01     -0.01   \n",
       "75%        0.57      0.33      0.60  ...      0.19      0.53      0.15   \n",
       "max      120.59     20.01     15.59  ...     27.20     10.50     22.53   \n",
       "\n",
       "            V24       V25       V26       V27       V28    Amount     Class  \n",
       "count 284807.00 284807.00 284807.00 284807.00 284807.00 284807.00 284807.00  \n",
       "mean       0.00      0.00      0.00     -0.00     -0.00     88.35      0.00  \n",
       "std        0.61      0.52      0.48      0.40      0.33    250.12      0.04  \n",
       "min       -2.84    -10.30     -2.60    -22.57    -15.43      0.00      0.00  \n",
       "25%       -0.35     -0.32     -0.33     -0.07     -0.05      5.60      0.00  \n",
       "50%        0.04      0.02     -0.05      0.00      0.01     22.00      0.00  \n",
       "75%        0.44      0.35      0.24      0.09      0.08     77.16      0.00  \n",
       "max        4.58      7.52      3.52     31.61     33.85  25691.16      1.00  \n",
       "\n",
       "[8 rows x 31 columns]"
      ]
     },
     "execution_count": 6,
     "metadata": {},
     "output_type": "execute_result"
    }
   ],
   "source": [
    "pd.set_option(\"display.float\", \"{:.2f}\".format)\n",
    "data.describe()"
   ]
  },
  {
   "cell_type": "markdown",
   "metadata": {},
   "source": [
    "Let us now check the missing values in the dataset"
   ]
  },
  {
   "cell_type": "code",
   "execution_count": 7,
   "metadata": {},
   "outputs": [
    {
     "data": {
      "text/plain": [
       "0"
      ]
     },
     "execution_count": 7,
     "metadata": {},
     "output_type": "execute_result"
    }
   ],
   "source": [
    "data.isnull().sum().sum()"
   ]
  },
  {
   "cell_type": "code",
   "execution_count": 8,
   "metadata": {},
   "outputs": [
    {
     "data": {
      "text/plain": [
       "Index(['Time', 'V1', 'V2', 'V3', 'V4', 'V5', 'V6', 'V7', 'V8', 'V9', 'V10',\n",
       "       'V11', 'V12', 'V13', 'V14', 'V15', 'V16', 'V17', 'V18', 'V19', 'V20',\n",
       "       'V21', 'V22', 'V23', 'V24', 'V25', 'V26', 'V27', 'V28', 'Amount',\n",
       "       'Class'],\n",
       "      dtype='object')"
      ]
     },
     "execution_count": 8,
     "metadata": {},
     "output_type": "execute_result"
    }
   ],
   "source": [
    "data.columns"
   ]
  },
  {
   "cell_type": "markdown",
   "metadata": {},
   "source": [
    "### The only non-transformed variables to work with are:\n",
    "- `Time`\n",
    "- `Amount`\n",
    "- `Class` (1: fraud, 0: not_fraud)"
   ]
  },
  {
   "cell_type": "code",
   "execution_count": 9,
   "metadata": {},
   "outputs": [
    {
     "data": {
      "image/png": "[encoded data removed]",
      "text/plain": [
       "<Figure size 432x288 with 1 Axes>"
      ]
     },
     "metadata": {},
     "output_type": "display_data"
    }
   ],
   "source": [
    "LABELS = [\"Normal\", \"Fraud\"]\n",
    "\n",
    "count_classes = pd.value_counts(data['Class'], sort = True)\n",
    "count_classes.plot(kind = 'bar', rot=0)\n",
    "plt.title(\"Transaction Class Distribution\")\n",
    "plt.xticks(range(2), LABELS)\n",
    "plt.xlabel(\"Class\")\n",
    "plt.ylabel(\"Frequency\");"
   ]
  },
  {
   "cell_type": "code",
   "execution_count": 10,
   "metadata": {},
   "outputs": [
    {
     "data": {
      "text/plain": [
       "0    284315\n",
       "1       492\n",
       "Name: Class, dtype: int64"
      ]
     },
     "execution_count": 10,
     "metadata": {},
     "output_type": "execute_result"
    }
   ],
   "source": [
    "data.Class.value_counts()"
   ]
  },
  {
   "cell_type": "markdown",
   "metadata": {},
   "source": [
    "Notice how imbalanced is our original dataset! Most of the transactions are non-fraud. If we use this dataframe as the base for our predictive models and analysis we might get a lot of errors and our algorithms will probably overfit since it will \"assume\" that most transactions are not fraud. But we don't want our model to assume, we want our model to detect patterns that give signs of fraud!"
   ]
  },
  {
   "cell_type": "markdown",
   "metadata": {},
   "source": [
    "Determine the number of fraud and valid transactions in the entire dataset."
   ]
  },
  {
   "cell_type": "code",
   "execution_count": 11,
   "metadata": {},
   "outputs": [],
   "source": [
    "fraud = data[data['Class']==1]\n",
    "normal = data[data['Class']==0]"
   ]
  },
  {
   "cell_type": "code",
   "execution_count": 12,
   "metadata": {},
   "outputs": [
    {
     "name": "stdout",
     "output_type": "stream",
     "text": [
      "Shape of Fraudulant transactions: (492, 31)\n",
      "Shape of Non-Fraudulant transactions: (284315, 31)\n"
     ]
    }
   ],
   "source": [
    "print(f\"Shape of Fraudulant transactions: {fraud.shape}\")\n",
    "print(f\"Shape of Non-Fraudulant transactions: {normal.shape}\")"
   ]
  },
  {
   "cell_type": "markdown",
   "metadata": {},
   "source": [
    "How different are the amount of money used in different transaction classes?"
   ]
  },
  {
   "cell_type": "code",
   "execution_count": 13,
   "metadata": {},
   "outputs": [
    {
     "data": {
      "text/html": [
       "<div>\n",
       "<style scoped>\n",
       "    .dataframe tbody tr th:only-of-type {\n",
       "        vertical-align: middle;\n",
       "    }\n",
       "\n",
       "    .dataframe tbody tr th {\n",
       "        vertical-align: top;\n",
       "    }\n",
       "\n",
       "    .dataframe thead th {\n",
       "        text-align: right;\n",
       "    }\n",
       "</style>\n",
       "<table border=\"1\" class=\"dataframe\">\n",
       "  <thead>\n",
       "    <tr style=\"text-align: right;\">\n",
       "      <th></th>\n",
       "      <th>Amount</th>\n",
       "      <th>Amount</th>\n",
       "    </tr>\n",
       "  </thead>\n",
       "  <tbody>\n",
       "    <tr>\n",
       "      <th>count</th>\n",
       "      <td>492.00</td>\n",
       "      <td>284315.00</td>\n",
       "    </tr>\n",
       "    <tr>\n",
       "      <th>mean</th>\n",
       "      <td>122.21</td>\n",
       "      <td>88.29</td>\n",
       "    </tr>\n",
       "    <tr>\n",
       "      <th>std</th>\n",
       "      <td>256.68</td>\n",
       "      <td>250.11</td>\n",
       "    </tr>\n",
       "    <tr>\n",
       "      <th>min</th>\n",
       "      <td>0.00</td>\n",
       "      <td>0.00</td>\n",
       "    </tr>\n",
       "    <tr>\n",
       "      <th>25%</th>\n",
       "      <td>1.00</td>\n",
       "      <td>5.65</td>\n",
       "    </tr>\n",
       "    <tr>\n",
       "      <th>50%</th>\n",
       "      <td>9.25</td>\n",
       "      <td>22.00</td>\n",
       "    </tr>\n",
       "    <tr>\n",
       "      <th>75%</th>\n",
       "      <td>105.89</td>\n",
       "      <td>77.05</td>\n",
       "    </tr>\n",
       "    <tr>\n",
       "      <th>max</th>\n",
       "      <td>2125.87</td>\n",
       "      <td>25691.16</td>\n",
       "    </tr>\n",
       "  </tbody>\n",
       "</table>\n",
       "</div>"
      ],
      "text/plain": [
       "       Amount    Amount\n",
       "count  492.00 284315.00\n",
       "mean   122.21     88.29\n",
       "std    256.68    250.11\n",
       "min      0.00      0.00\n",
       "25%      1.00      5.65\n",
       "50%      9.25     22.00\n",
       "75%    105.89     77.05\n",
       "max   2125.87  25691.16"
      ]
     },
     "execution_count": 13,
     "metadata": {},
     "output_type": "execute_result"
    }
   ],
   "source": [
    "pd.concat([fraud.Amount.describe(), normal.Amount.describe()], axis=1)"
   ]
  },
  {
   "cell_type": "markdown",
   "metadata": {},
   "source": [
    "Do fraudulent transactions occur more often during certain time frame ?"
   ]
  },
  {
   "cell_type": "code",
   "execution_count": 14,
   "metadata": {},
   "outputs": [
    {
     "data": {
      "text/html": [
       "<div>\n",
       "<style scoped>\n",
       "    .dataframe tbody tr th:only-of-type {\n",
       "        vertical-align: middle;\n",
       "    }\n",
       "\n",
       "    .dataframe tbody tr th {\n",
       "        vertical-align: top;\n",
       "    }\n",
       "\n",
       "    .dataframe thead th {\n",
       "        text-align: right;\n",
       "    }\n",
       "</style>\n",
       "<table border=\"1\" class=\"dataframe\">\n",
       "  <thead>\n",
       "    <tr style=\"text-align: right;\">\n",
       "      <th></th>\n",
       "      <th>Time</th>\n",
       "      <th>Time</th>\n",
       "    </tr>\n",
       "  </thead>\n",
       "  <tbody>\n",
       "    <tr>\n",
       "      <th>count</th>\n",
       "      <td>492.00</td>\n",
       "      <td>284315.00</td>\n",
       "    </tr>\n",
       "    <tr>\n",
       "      <th>mean</th>\n",
       "      <td>80746.81</td>\n",
       "      <td>94838.20</td>\n",
       "    </tr>\n",
       "    <tr>\n",
       "      <th>std</th>\n",
       "      <td>47835.37</td>\n",
       "      <td>47484.02</td>\n",
       "    </tr>\n",
       "    <tr>\n",
       "      <th>min</th>\n",
       "      <td>406.00</td>\n",
       "      <td>0.00</td>\n",
       "    </tr>\n",
       "    <tr>\n",
       "      <th>25%</th>\n",
       "      <td>41241.50</td>\n",
       "      <td>54230.00</td>\n",
       "    </tr>\n",
       "    <tr>\n",
       "      <th>50%</th>\n",
       "      <td>75568.50</td>\n",
       "      <td>84711.00</td>\n",
       "    </tr>\n",
       "    <tr>\n",
       "      <th>75%</th>\n",
       "      <td>128483.00</td>\n",
       "      <td>139333.00</td>\n",
       "    </tr>\n",
       "    <tr>\n",
       "      <th>max</th>\n",
       "      <td>170348.00</td>\n",
       "      <td>172792.00</td>\n",
       "    </tr>\n",
       "  </tbody>\n",
       "</table>\n",
       "</div>"
      ],
      "text/plain": [
       "           Time      Time\n",
       "count    492.00 284315.00\n",
       "mean   80746.81  94838.20\n",
       "std    47835.37  47484.02\n",
       "min      406.00      0.00\n",
       "25%    41241.50  54230.00\n",
       "50%    75568.50  84711.00\n",
       "75%   128483.00 139333.00\n",
       "max   170348.00 172792.00"
      ]
     },
     "execution_count": 14,
     "metadata": {},
     "output_type": "execute_result"
    }
   ],
   "source": [
    "pd.concat([fraud.Time.describe(), normal.Time.describe()], axis=1)"
   ]
  },
  {
   "cell_type": "code",
   "execution_count": 15,
   "metadata": {},
   "outputs": [
    {
     "data": {
      "image/png": "[encoded data removed]",
      "text/plain": [
       "<Figure size 720x576 with 2 Axes>"
      ]
     },
     "metadata": {},
     "output_type": "display_data"
    }
   ],
   "source": [
    "# plot the time feature\n",
    "plt.figure(figsize=(10,8))\n",
    "\n",
    "plt.subplot(2, 2, 1)\n",
    "plt.title('Time Distribution (Seconds)')\n",
    "\n",
    "sns.distplot(data['Time'], color='blue');\n",
    "\n",
    "#plot the amount feature\n",
    "plt.subplot(2, 2, 2)\n",
    "plt.title('Distribution of Amount')\n",
    "sns.distplot(data['Amount'],color='blue');"
   ]
  },
  {
   "cell_type": "code",
   "execution_count": 16,
   "metadata": {},
   "outputs": [
    {
     "data": {
      "text/plain": [
       "<matplotlib.legend.Legend at 0x7f4990939b50>"
      ]
     },
     "execution_count": 16,
     "metadata": {},
     "output_type": "execute_result"
    },
    {
     "data": {
      "image/png": "[encoded data removed]",
      "text/plain": [
       "<Figure size 864x720 with 2 Axes>"
      ]
     },
     "metadata": {},
     "output_type": "display_data"
    }
   ],
   "source": [
    "# data[data.Class == 0].Time.hist(bins=35, color='blue', alpha=0.6)\n",
    "plt.figure(figsize=(12, 10))\n",
    "\n",
    "plt.subplot(2, 2, 1)\n",
    "data[data.Class == 1].Time.hist(bins=35, color='blue', alpha=0.6, label=\"Fraudulant Transaction\")\n",
    "plt.legend()\n",
    "\n",
    "plt.subplot(2, 2, 2)\n",
    "data[data.Class == 0].Time.hist(bins=35, color='blue', alpha=0.6, label=\"Non Fraudulant Transaction\")\n",
    "plt.legend()"
   ]
  },
  {
   "cell_type": "markdown",
   "metadata": {},
   "source": [
    "By seeing the distributions we can have an idea how skewed are these features, we can also see further distributions of the other features. There are techniques that can help the distributions be less skewed which will be implemented in this notebook in the future.\n",
    "\n",
    "Doesn't seem like the time of transaction really matters here as per above observation.\n",
    "Now let us take a sample of the dataset for out modelling and prediction"
   ]
  },
  {
   "cell_type": "code",
   "execution_count": 17,
   "metadata": {},
   "outputs": [
    {
     "data": {
      "image/png": "[encoded data removed]",
      "text/plain": [
       "<Figure size 1440x1440 with 36 Axes>"
      ]
     },
     "metadata": {},
     "output_type": "display_data"
    }
   ],
   "source": [
    "data.hist(figsize=(20, 20));"
   ]
  },
  {
   "cell_type": "code",
   "execution_count": 18,
   "metadata": {},
   "outputs": [
    {
     "data": {
      "image/png": "[encoded data removed]",
      "text/plain": [
       "<Figure size 720x720 with 2 Axes>"
      ]
     },
     "metadata": {},
     "output_type": "display_data"
    }
   ],
   "source": [
    "# heatmap to find any high correlations\n",
    "\n",
    "plt.figure(figsize=(10,10))\n",
    "sns.heatmap(data=data.corr(), cmap=\"seismic\")\n",
    "plt.show();"
   ]
  },
  {
   "cell_type": "markdown",
   "metadata": {},
   "source": [
    "### Highest correlations come from:\n",
    "    - Time & V3 (-0.42)\n",
    "    - Amount & V2 (-0.53)\n",
    "    - Amount & V4 (0.4)\n",
    "\n",
    "- While these correlations are high, I don't expect it to run the risk of multicollinearity.\n",
    "\n",
    "- The correlation matrix shows also that none of the V1 to V28 PCA components have any correlation to each other however if we observe Class has some form positive and negative correlations with the V components but has no correlation with Time and Amount."
   ]
  },
  {
   "cell_type": "markdown",
   "metadata": {},
   "source": [
    "### Data Pre-processing\n",
    "\n",
    "`Time` and `Amount` should be scaled as the other columns."
   ]
  },
  {
   "cell_type": "code",
   "execution_count": 19,
   "metadata": {},
   "outputs": [],
   "source": [
    "from sklearn.model_selection import train_test_split\n",
    "from sklearn.preprocessing import StandardScaler\n",
    "\n",
    "scalar = StandardScaler()\n",
    "\n",
    "X = data.drop('Class', axis=1)\n",
    "y = data.Class\n",
    "\n",
    "X_train_v, X_test, y_train_v, y_test = train_test_split(X, y, \n",
    "                                                    test_size=0.3, random_state=42)\n",
    "X_train, X_validate, y_train, y_validate = train_test_split(X_train_v, y_train_v, \n",
    "                                                            test_size=0.2, random_state=42)\n",
    "\n",
    "X_train = scalar.fit_transform(X_train)\n",
    "X_validate = scalar.transform(X_validate)\n",
    "X_test = scalar.transform(X_test)"
   ]
  },
  {
   "cell_type": "code",
   "execution_count": 20,
   "metadata": {},
   "outputs": [
    {
     "name": "stdout",
     "output_type": "stream",
     "text": [
      "TRAINING: X_train: (159491, 30), y_train: (159491,)\n",
      "_______________________________________________________\n",
      "VALIDATION: X_validate: (39873, 30), y_validate: (39873,)\n",
      "__________________________________________________\n",
      "TESTING: X_test: (85443, 30), y_test: (85443,)\n"
     ]
    }
   ],
   "source": [
    "print(f\"TRAINING: X_train: {X_train.shape}, y_train: {y_train.shape}\\n{'_'*55}\")\n",
    "print(f\"VALIDATION: X_validate: {X_validate.shape}, y_validate: {y_validate.shape}\\n{'_'*50}\")\n",
    "print(f\"TESTING: X_test: {X_test.shape}, y_test: {y_test.shape}\")"
   ]
  },
  {
   "cell_type": "code",
   "execution_count": 21,
   "metadata": {},
   "outputs": [],
   "source": [
    "from sklearn.metrics import accuracy_score, confusion_matrix, precision_score, recall_score, f1_score\n",
    "\n",
    "def print_score(label, prediction, train=True):\n",
    "    if train:\n",
    "        print(\"Train Result:\\n================================================\")\n",
    "        print(f\"Accuracy Score: {accuracy_score(label, prediction) * 100:.2f}%\")\n",
    "        print(\"_______________________________________________\")\n",
    "        print(\"Classification Report:\", end='')\n",
    "        print(f\"\\tPrecision Score: {precision_score(label, prediction) * 100:.2f}%\")\n",
    "        print(f\"\\t\\t\\tRecall Score: {recall_score(label, prediction) * 100:.2f}%\")\n",
    "        print(f\"\\t\\t\\tF1 score: {f1_score(label, prediction) * 100:.2f}%\")\n",
    "        print(\"_______________________________________________\")\n",
    "        print(f\"Confusion Matrix: \\n {confusion_matrix(y_train, prediction)}\\n\")\n",
    "        \n",
    "    elif train==False:\n",
    "        print(\"Test Result:\\n================================================\")        \n",
    "        print(f\"Accuracy Score: {accuracy_score(label, prediction) * 100:.2f}%\")\n",
    "        print(\"_______________________________________________\")\n",
    "        print(\"Classification Report:\", end='')\n",
    "        print(f\"\\tPrecision Score: {precision_score(label, prediction) * 100:.2f}%\")\n",
    "        print(f\"\\t\\t\\tRecall Score: {recall_score(label, prediction) * 100:.2f}%\")\n",
    "        print(f\"\\t\\t\\tF1 score: {f1_score(label, prediction) * 100:.2f}%\")\n",
    "        print(\"_______________________________________________\")\n",
    "        print(f\"Confusion Matrix: \\n {confusion_matrix(label, prediction)}\\n\") "
   ]
  },
  {
   "cell_type": "markdown",
   "metadata": {},
   "source": [
    "# Model Building (Imbalanced Dataset)"
   ]
  },
  {
   "cell_type": "markdown",
   "metadata": {},
   "source": [
    "# 1. Convolutional Neural Network (CNNs)"
   ]
  },
  {
   "cell_type": "code",
   "execution_count": 22,
   "metadata": {},
   "outputs": [],
   "source": [
    "X_train_d = np.expand_dims(X_train, -1)\n",
    "X_test_d = np.expand_dims(X_test, -1)\n",
    "X_validate_d = np.expand_dims(X_validate, -1)"
   ]
  },
  {
   "cell_type": "code",
   "execution_count": 23,
   "metadata": {},
   "outputs": [
    {
     "name": "stdout",
     "output_type": "stream",
     "text": [
      "TRAINING: X_train: (159491, 30, 1), y_train: (159491,)\n",
      "_______________________________________________________\n",
      "VALIDATION: X_validate: (39873, 30, 1), y_validate: (39873,)\n",
      "__________________________________________________\n",
      "TESTING: X_test: (85443, 30, 1), y_test: (85443,)\n"
     ]
    }
   ],
   "source": [
    "print(f\"TRAINING: X_train: {X_train_d.shape}, y_train: {y_train.shape}\\n{'_'*55}\")\n",
    "print(f\"VALIDATION: X_validate: {X_validate_d.shape}, y_validate: {y_validate.shape}\\n{'_'*50}\")\n",
    "print(f\"TESTING: X_test: {X_test_d.shape}, y_test: {y_test.shape}\")"
   ]
  },
  {
   "cell_type": "code",
   "execution_count": 24,
   "metadata": {},
   "outputs": [
    {
     "name": "stderr",
     "output_type": "stream",
     "text": [
      "Using TensorFlow backend.\n"
     ]
    }
   ],
   "source": [
    "import keras\n",
    "from keras.models import Sequential\n",
    "from keras.layers import Conv1D, MaxPooling1D, Dense, Flatten, Dropout, BatchNormalization\n",
    "from keras.optimizers import Adam\n",
    "from keras.callbacks import TensorBoard"
   ]
  },
  {
   "cell_type": "code",
   "execution_count": 33,
   "metadata": {},
   "outputs": [],
   "source": [
    "epochs = 3\n",
    "model = Sequential()\n",
    "model.add(Conv1D(32, 2, activation='relu', input_shape=X_train_d[0].shape))\n",
    "model.add(BatchNormalization())\n",
    "model.add(Dropout(0.1))\n",
    "\n",
    "model.add(Conv1D(64, 2, activation='relu'))\n",
    "model.add(BatchNormalization())\n",
    "model.add(Dropout(0.2))\n",
    "\n",
    "model.add(Conv1D(128, 2, activation='relu'))\n",
    "model.add(BatchNormalization())\n",
    "model.add(Dropout(0.3))\n",
    "\n",
    "model.add(Flatten())\n",
    "model.add(Dropout(0.4))\n",
    "model.add(Dense(512, activation='relu'))\n",
    "model.add(Dropout(0.5))\n",
    "\n",
    "model.add(Dense(1, activation='sigmoid'))"
   ]
  },
  {
   "cell_type": "code",
   "execution_count": 34,
   "metadata": {},
   "outputs": [
    {
     "name": "stdout",
     "output_type": "stream",
     "text": [
      "Model: \"sequential_1\"\n",
      "_________________________________________________________________\n",
      "Layer (type)                 Output Shape              Param #   \n",
      "=================================================================\n",
      "conv1d_3 (Conv1D)            (None, 29, 32)            96        \n",
      "_________________________________________________________________\n",
      "batch_normalization_3 (Batch (None, 29, 32)            128       \n",
      "_________________________________________________________________\n",
      "dropout_5 (Dropout)          (None, 29, 32)            0         \n",
      "_________________________________________________________________\n",
      "conv1d_4 (Conv1D)            (None, 28, 64)            4160      \n",
      "_________________________________________________________________\n",
      "batch_normalization_4 (Batch (None, 28, 64)            256       \n",
      "_________________________________________________________________\n",
      "dropout_6 (Dropout)          (None, 28, 64)            0         \n",
      "_________________________________________________________________\n",
      "conv1d_5 (Conv1D)            (None, 27, 128)           16512     \n",
      "_________________________________________________________________\n",
      "batch_normalization_5 (Batch (None, 27, 128)           512       \n",
      "_________________________________________________________________\n",
      "dropout_7 (Dropout)          (None, 27, 128)           0         \n",
      "_________________________________________________________________\n",
      "flatten_1 (Flatten)          (None, 3456)              0         \n",
      "_________________________________________________________________\n",
      "dropout_8 (Dropout)          (None, 3456)              0         \n",
      "_________________________________________________________________\n",
      "dense_2 (Dense)              (None, 512)               1769984   \n",
      "_________________________________________________________________\n",
      "dropout_9 (Dropout)          (None, 512)               0         \n",
      "_________________________________________________________________\n",
      "dense_3 (Dense)              (None, 1)                 513       \n",
      "=================================================================\n",
      "Total params: 1,792,161\n",
      "Trainable params: 1,791,713\n",
      "Non-trainable params: 448\n",
      "_________________________________________________________________\n"
     ]
    }
   ],
   "source": [
    "model.summary()"
   ]
  },
  {
   "cell_type": "code",
   "execution_count": 35,
   "metadata": {
    "_kg_hide-output": true
   },
   "outputs": [
    {
     "name": "stdout",
     "output_type": "stream",
     "text": [
      "Epoch 1/5\n",
      "3/7 [===========>..................] - ETA: 19s - loss: 0.7917 - auc_6: 0.4801"
     ]
    },
    {
     "ename": "KeyboardInterrupt",
     "evalue": "",
     "output_type": "error",
     "traceback": [
      "\u001b[0;31m---------------------------------------------------------------------------\u001b[0m",
      "\u001b[0;31mKeyboardInterrupt\u001b[0m                         Traceback (most recent call last)",
      "\u001b[0;32m<ipython-input-35-63a21c4bcc02>\u001b[0m in \u001b[0;36m<module>\u001b[0;34m\u001b[0m\n\u001b[1;32m      1\u001b[0m \u001b[0;31m# weights = {0:1, 1:5}\u001b[0m\u001b[0;34m\u001b[0m\u001b[0;34m\u001b[0m\u001b[0;34m\u001b[0m\u001b[0m\n\u001b[1;32m      2\u001b[0m \u001b[0mmodel\u001b[0m\u001b[0;34m.\u001b[0m\u001b[0mcompile\u001b[0m\u001b[0;34m(\u001b[0m\u001b[0moptimizer\u001b[0m\u001b[0;34m=\u001b[0m\u001b[0mAdam\u001b[0m\u001b[0;34m(\u001b[0m\u001b[0;36m0.0001\u001b[0m\u001b[0;34m)\u001b[0m\u001b[0;34m,\u001b[0m \u001b[0mloss\u001b[0m\u001b[0;34m=\u001b[0m\u001b[0;34m'binary_crossentropy'\u001b[0m\u001b[0;34m,\u001b[0m \u001b[0mmetrics\u001b[0m\u001b[0;34m=\u001b[0m\u001b[0;34m[\u001b[0m\u001b[0mkeras\u001b[0m\u001b[0;34m.\u001b[0m\u001b[0mmetrics\u001b[0m\u001b[0;34m.\u001b[0m\u001b[0mAUC\u001b[0m\u001b[0;34m(\u001b[0m\u001b[0;34m)\u001b[0m\u001b[0;34m]\u001b[0m\u001b[0;34m)\u001b[0m\u001b[0;34m\u001b[0m\u001b[0;34m\u001b[0m\u001b[0m\n\u001b[0;32m----> 3\u001b[0;31m r = model.fit(X_train_d, y_train, \n\u001b[0m\u001b[1;32m      4\u001b[0m               \u001b[0mvalidation_data\u001b[0m\u001b[0;34m=\u001b[0m\u001b[0;34m(\u001b[0m\u001b[0mX_validate_d\u001b[0m\u001b[0;34m,\u001b[0m \u001b[0my_validate\u001b[0m\u001b[0;34m)\u001b[0m\u001b[0;34m,\u001b[0m\u001b[0;34m\u001b[0m\u001b[0;34m\u001b[0m\u001b[0m\n\u001b[1;32m      5\u001b[0m               \u001b[0mbatch_size\u001b[0m\u001b[0;34m=\u001b[0m\u001b[0;36m24000\u001b[0m\u001b[0;34m,\u001b[0m\u001b[0;34m\u001b[0m\u001b[0;34m\u001b[0m\u001b[0m\n",
      "\u001b[0;32m/usr/local/lib/python3.8/dist-packages/tensorflow/python/keras/engine/training.py\u001b[0m in \u001b[0;36m_method_wrapper\u001b[0;34m(self, *args, **kwargs)\u001b[0m\n\u001b[1;32m     64\u001b[0m   \u001b[0;32mdef\u001b[0m \u001b[0m_method_wrapper\u001b[0m\u001b[0;34m(\u001b[0m\u001b[0mself\u001b[0m\u001b[0;34m,\u001b[0m \u001b[0;34m*\u001b[0m\u001b[0margs\u001b[0m\u001b[0;34m,\u001b[0m \u001b[0;34m**\u001b[0m\u001b[0mkwargs\u001b[0m\u001b[0;34m)\u001b[0m\u001b[0;34m:\u001b[0m\u001b[0;34m\u001b[0m\u001b[0;34m\u001b[0m\u001b[0m\n\u001b[1;32m     65\u001b[0m     \u001b[0;32mif\u001b[0m \u001b[0;32mnot\u001b[0m \u001b[0mself\u001b[0m\u001b[0;34m.\u001b[0m\u001b[0m_in_multi_worker_mode\u001b[0m\u001b[0;34m(\u001b[0m\u001b[0;34m)\u001b[0m\u001b[0;34m:\u001b[0m  \u001b[0;31m# pylint: disable=protected-access\u001b[0m\u001b[0;34m\u001b[0m\u001b[0;34m\u001b[0m\u001b[0m\n\u001b[0;32m---> 66\u001b[0;31m       \u001b[0;32mreturn\u001b[0m \u001b[0mmethod\u001b[0m\u001b[0;34m(\u001b[0m\u001b[0mself\u001b[0m\u001b[0;34m,\u001b[0m \u001b[0;34m*\u001b[0m\u001b[0margs\u001b[0m\u001b[0;34m,\u001b[0m \u001b[0;34m**\u001b[0m\u001b[0mkwargs\u001b[0m\u001b[0;34m)\u001b[0m\u001b[0;34m\u001b[0m\u001b[0;34m\u001b[0m\u001b[0m\n\u001b[0m\u001b[1;32m     67\u001b[0m \u001b[0;34m\u001b[0m\u001b[0m\n\u001b[1;32m     68\u001b[0m     \u001b[0;31m# Running inside `run_distribute_coordinator` already.\u001b[0m\u001b[0;34m\u001b[0m\u001b[0;34m\u001b[0m\u001b[0;34m\u001b[0m\u001b[0m\n",
      "\u001b[0;32m/usr/local/lib/python3.8/dist-packages/tensorflow/python/keras/engine/training.py\u001b[0m in \u001b[0;36mfit\u001b[0;34m(self, x, y, batch_size, epochs, verbose, callbacks, validation_split, validation_data, shuffle, class_weight, sample_weight, initial_epoch, steps_per_epoch, validation_steps, validation_batch_size, validation_freq, max_queue_size, workers, use_multiprocessing)\u001b[0m\n\u001b[1;32m    846\u001b[0m                 batch_size=batch_size):\n\u001b[1;32m    847\u001b[0m               \u001b[0mcallbacks\u001b[0m\u001b[0;34m.\u001b[0m\u001b[0mon_train_batch_begin\u001b[0m\u001b[0;34m(\u001b[0m\u001b[0mstep\u001b[0m\u001b[0;34m)\u001b[0m\u001b[0;34m\u001b[0m\u001b[0;34m\u001b[0m\u001b[0m\n\u001b[0;32m--> 848\u001b[0;31m               \u001b[0mtmp_logs\u001b[0m \u001b[0;34m=\u001b[0m \u001b[0mtrain_function\u001b[0m\u001b[0;34m(\u001b[0m\u001b[0miterator\u001b[0m\u001b[0;34m)\u001b[0m\u001b[0;34m\u001b[0m\u001b[0;34m\u001b[0m\u001b[0m\n\u001b[0m\u001b[1;32m    849\u001b[0m               \u001b[0;31m# Catch OutOfRangeError for Datasets of unknown size.\u001b[0m\u001b[0;34m\u001b[0m\u001b[0;34m\u001b[0m\u001b[0;34m\u001b[0m\u001b[0m\n\u001b[1;32m    850\u001b[0m               \u001b[0;31m# This blocks until the batch has finished executing.\u001b[0m\u001b[0;34m\u001b[0m\u001b[0;34m\u001b[0m\u001b[0;34m\u001b[0m\u001b[0m\n",
      "\u001b[0;32m/usr/local/lib/python3.8/dist-packages/tensorflow/python/eager/def_function.py\u001b[0m in \u001b[0;36m__call__\u001b[0;34m(self, *args, **kwds)\u001b[0m\n\u001b[1;32m    578\u001b[0m         \u001b[0mxla_context\u001b[0m\u001b[0;34m.\u001b[0m\u001b[0mExit\u001b[0m\u001b[0;34m(\u001b[0m\u001b[0;34m)\u001b[0m\u001b[0;34m\u001b[0m\u001b[0;34m\u001b[0m\u001b[0m\n\u001b[1;32m    579\u001b[0m     \u001b[0;32melse\u001b[0m\u001b[0;34m:\u001b[0m\u001b[0;34m\u001b[0m\u001b[0;34m\u001b[0m\u001b[0m\n\u001b[0;32m--> 580\u001b[0;31m       \u001b[0mresult\u001b[0m \u001b[0;34m=\u001b[0m \u001b[0mself\u001b[0m\u001b[0;34m.\u001b[0m\u001b[0m_call\u001b[0m\u001b[0;34m(\u001b[0m\u001b[0;34m*\u001b[0m\u001b[0margs\u001b[0m\u001b[0;34m,\u001b[0m \u001b[0;34m**\u001b[0m\u001b[0mkwds\u001b[0m\u001b[0;34m)\u001b[0m\u001b[0;34m\u001b[0m\u001b[0;34m\u001b[0m\u001b[0m\n\u001b[0m\u001b[1;32m    581\u001b[0m \u001b[0;34m\u001b[0m\u001b[0m\n\u001b[1;32m    582\u001b[0m     \u001b[0;32mif\u001b[0m \u001b[0mtracing_count\u001b[0m \u001b[0;34m==\u001b[0m \u001b[0mself\u001b[0m\u001b[0;34m.\u001b[0m\u001b[0m_get_tracing_count\u001b[0m\u001b[0;34m(\u001b[0m\u001b[0;34m)\u001b[0m\u001b[0;34m:\u001b[0m\u001b[0;34m\u001b[0m\u001b[0;34m\u001b[0m\u001b[0m\n",
      "\u001b[0;32m/usr/local/lib/python3.8/dist-packages/tensorflow/python/eager/def_function.py\u001b[0m in \u001b[0;36m_call\u001b[0;34m(self, *args, **kwds)\u001b[0m\n\u001b[1;32m    609\u001b[0m       \u001b[0;31m# In this case we have created variables on the first call, so we run the\u001b[0m\u001b[0;34m\u001b[0m\u001b[0;34m\u001b[0m\u001b[0;34m\u001b[0m\u001b[0m\n\u001b[1;32m    610\u001b[0m       \u001b[0;31m# defunned version which is guaranteed to never create variables.\u001b[0m\u001b[0;34m\u001b[0m\u001b[0;34m\u001b[0m\u001b[0;34m\u001b[0m\u001b[0m\n\u001b[0;32m--> 611\u001b[0;31m       \u001b[0;32mreturn\u001b[0m \u001b[0mself\u001b[0m\u001b[0;34m.\u001b[0m\u001b[0m_stateless_fn\u001b[0m\u001b[0;34m(\u001b[0m\u001b[0;34m*\u001b[0m\u001b[0margs\u001b[0m\u001b[0;34m,\u001b[0m \u001b[0;34m**\u001b[0m\u001b[0mkwds\u001b[0m\u001b[0;34m)\u001b[0m  \u001b[0;31m# pylint: disable=not-callable\u001b[0m\u001b[0;34m\u001b[0m\u001b[0;34m\u001b[0m\u001b[0m\n\u001b[0m\u001b[1;32m    612\u001b[0m     \u001b[0;32melif\u001b[0m \u001b[0mself\u001b[0m\u001b[0;34m.\u001b[0m\u001b[0m_stateful_fn\u001b[0m \u001b[0;32mis\u001b[0m \u001b[0;32mnot\u001b[0m \u001b[0;32mNone\u001b[0m\u001b[0;34m:\u001b[0m\u001b[0;34m\u001b[0m\u001b[0;34m\u001b[0m\u001b[0m\n\u001b[1;32m    613\u001b[0m       \u001b[0;31m# Release the lock early so that multiple threads can perform the call\u001b[0m\u001b[0;34m\u001b[0m\u001b[0;34m\u001b[0m\u001b[0;34m\u001b[0m\u001b[0m\n",
      "\u001b[0;32m/usr/local/lib/python3.8/dist-packages/tensorflow/python/eager/function.py\u001b[0m in \u001b[0;36m__call__\u001b[0;34m(self, *args, **kwargs)\u001b[0m\n\u001b[1;32m   2418\u001b[0m     \u001b[0;32mwith\u001b[0m \u001b[0mself\u001b[0m\u001b[0;34m.\u001b[0m\u001b[0m_lock\u001b[0m\u001b[0;34m:\u001b[0m\u001b[0;34m\u001b[0m\u001b[0;34m\u001b[0m\u001b[0m\n\u001b[1;32m   2419\u001b[0m       \u001b[0mgraph_function\u001b[0m\u001b[0;34m,\u001b[0m \u001b[0margs\u001b[0m\u001b[0;34m,\u001b[0m \u001b[0mkwargs\u001b[0m \u001b[0;34m=\u001b[0m \u001b[0mself\u001b[0m\u001b[0;34m.\u001b[0m\u001b[0m_maybe_define_function\u001b[0m\u001b[0;34m(\u001b[0m\u001b[0margs\u001b[0m\u001b[0;34m,\u001b[0m \u001b[0mkwargs\u001b[0m\u001b[0;34m)\u001b[0m\u001b[0;34m\u001b[0m\u001b[0;34m\u001b[0m\u001b[0m\n\u001b[0;32m-> 2420\u001b[0;31m     \u001b[0;32mreturn\u001b[0m \u001b[0mgraph_function\u001b[0m\u001b[0;34m.\u001b[0m\u001b[0m_filtered_call\u001b[0m\u001b[0;34m(\u001b[0m\u001b[0margs\u001b[0m\u001b[0;34m,\u001b[0m \u001b[0mkwargs\u001b[0m\u001b[0;34m)\u001b[0m  \u001b[0;31m# pylint: disable=protected-access\u001b[0m\u001b[0;34m\u001b[0m\u001b[0;34m\u001b[0m\u001b[0m\n\u001b[0m\u001b[1;32m   2421\u001b[0m \u001b[0;34m\u001b[0m\u001b[0m\n\u001b[1;32m   2422\u001b[0m   \u001b[0;34m@\u001b[0m\u001b[0mproperty\u001b[0m\u001b[0;34m\u001b[0m\u001b[0;34m\u001b[0m\u001b[0m\n",
      "\u001b[0;32m/usr/local/lib/python3.8/dist-packages/tensorflow/python/eager/function.py\u001b[0m in \u001b[0;36m_filtered_call\u001b[0;34m(self, args, kwargs)\u001b[0m\n\u001b[1;32m   1659\u001b[0m       \u001b[0;31m`\u001b[0m\u001b[0margs\u001b[0m\u001b[0;31m`\u001b[0m \u001b[0;32mand\u001b[0m\u001b[0;31m \u001b[0m\u001b[0;31m`\u001b[0m\u001b[0mkwargs\u001b[0m\u001b[0;31m`\u001b[0m\u001b[0;34m.\u001b[0m\u001b[0;34m\u001b[0m\u001b[0;34m\u001b[0m\u001b[0m\n\u001b[1;32m   1660\u001b[0m     \"\"\"\n\u001b[0;32m-> 1661\u001b[0;31m     return self._call_flat(\n\u001b[0m\u001b[1;32m   1662\u001b[0m         (t for t in nest.flatten((args, kwargs), expand_composites=True)\n\u001b[1;32m   1663\u001b[0m          if isinstance(t, (ops.Tensor,\n",
      "\u001b[0;32m/usr/local/lib/python3.8/dist-packages/tensorflow/python/eager/function.py\u001b[0m in \u001b[0;36m_call_flat\u001b[0;34m(self, args, captured_inputs, cancellation_manager)\u001b[0m\n\u001b[1;32m   1743\u001b[0m         and executing_eagerly):\n\u001b[1;32m   1744\u001b[0m       \u001b[0;31m# No tape is watching; skip to running the function.\u001b[0m\u001b[0;34m\u001b[0m\u001b[0;34m\u001b[0m\u001b[0;34m\u001b[0m\u001b[0m\n\u001b[0;32m-> 1745\u001b[0;31m       return self._build_call_outputs(self._inference_function.call(\n\u001b[0m\u001b[1;32m   1746\u001b[0m           ctx, args, cancellation_manager=cancellation_manager))\n\u001b[1;32m   1747\u001b[0m     forward_backward = self._select_forward_and_backward_functions(\n",
      "\u001b[0;32m/usr/local/lib/python3.8/dist-packages/tensorflow/python/eager/function.py\u001b[0m in \u001b[0;36mcall\u001b[0;34m(self, ctx, args, cancellation_manager)\u001b[0m\n\u001b[1;32m    591\u001b[0m       \u001b[0;32mwith\u001b[0m \u001b[0m_InterpolateFunctionError\u001b[0m\u001b[0;34m(\u001b[0m\u001b[0mself\u001b[0m\u001b[0;34m)\u001b[0m\u001b[0;34m:\u001b[0m\u001b[0;34m\u001b[0m\u001b[0;34m\u001b[0m\u001b[0m\n\u001b[1;32m    592\u001b[0m         \u001b[0;32mif\u001b[0m \u001b[0mcancellation_manager\u001b[0m \u001b[0;32mis\u001b[0m \u001b[0;32mNone\u001b[0m\u001b[0;34m:\u001b[0m\u001b[0;34m\u001b[0m\u001b[0;34m\u001b[0m\u001b[0m\n\u001b[0;32m--> 593\u001b[0;31m           outputs = execute.execute(\n\u001b[0m\u001b[1;32m    594\u001b[0m               \u001b[0mstr\u001b[0m\u001b[0;34m(\u001b[0m\u001b[0mself\u001b[0m\u001b[0;34m.\u001b[0m\u001b[0msignature\u001b[0m\u001b[0;34m.\u001b[0m\u001b[0mname\u001b[0m\u001b[0;34m)\u001b[0m\u001b[0;34m,\u001b[0m\u001b[0;34m\u001b[0m\u001b[0;34m\u001b[0m\u001b[0m\n\u001b[1;32m    595\u001b[0m               \u001b[0mnum_outputs\u001b[0m\u001b[0;34m=\u001b[0m\u001b[0mself\u001b[0m\u001b[0;34m.\u001b[0m\u001b[0m_num_outputs\u001b[0m\u001b[0;34m,\u001b[0m\u001b[0;34m\u001b[0m\u001b[0;34m\u001b[0m\u001b[0m\n",
      "\u001b[0;32m/usr/local/lib/python3.8/dist-packages/tensorflow/python/eager/execute.py\u001b[0m in \u001b[0;36mquick_execute\u001b[0;34m(op_name, num_outputs, inputs, attrs, ctx, name)\u001b[0m\n\u001b[1;32m     57\u001b[0m   \u001b[0;32mtry\u001b[0m\u001b[0;34m:\u001b[0m\u001b[0;34m\u001b[0m\u001b[0;34m\u001b[0m\u001b[0m\n\u001b[1;32m     58\u001b[0m     \u001b[0mctx\u001b[0m\u001b[0;34m.\u001b[0m\u001b[0mensure_initialized\u001b[0m\u001b[0;34m(\u001b[0m\u001b[0;34m)\u001b[0m\u001b[0;34m\u001b[0m\u001b[0;34m\u001b[0m\u001b[0m\n\u001b[0;32m---> 59\u001b[0;31m     tensors = pywrap_tfe.TFE_Py_Execute(ctx._handle, device_name, op_name,\n\u001b[0m\u001b[1;32m     60\u001b[0m                                         inputs, attrs, num_outputs)\n\u001b[1;32m     61\u001b[0m   \u001b[0;32mexcept\u001b[0m \u001b[0mcore\u001b[0m\u001b[0;34m.\u001b[0m\u001b[0m_NotOkStatusException\u001b[0m \u001b[0;32mas\u001b[0m \u001b[0me\u001b[0m\u001b[0;34m:\u001b[0m\u001b[0;34m\u001b[0m\u001b[0;34m\u001b[0m\u001b[0m\n",
      "\u001b[0;31mKeyboardInterrupt\u001b[0m: "
     ]
    }
   ],
   "source": [
    "# weights = {0:1, 1:5}\n",
    "model.compile(optimizer=Adam(0.0001), loss='binary_crossentropy', metrics=[keras.metrics.AUC()])\n",
    "r = model.fit(X_train_d, y_train, \n",
    "              validation_data=(X_validate_d, y_validate),\n",
    "              batch_size=24000, \n",
    "              epochs=epochs, \n",
    "#               class_weight=weights\n",
    "             )"
   ]
  },
  {
   "cell_type": "code",
   "execution_count": 27,
   "metadata": {
    "scrolled": true
   },
   "outputs": [
    {
     "name": "stdout",
     "output_type": "stream",
     "text": [
      "85443/85443 [==============================] - 14s 168us/step\n"
     ]
    }
   ],
   "source": [
    "score = model.evaluate(X_test_d, y_test)"
   ]
  },
  {
   "cell_type": "code",
   "execution_count": 28,
   "metadata": {},
   "outputs": [
    {
     "name": "stdout",
     "output_type": "stream",
     "text": [
      "[0.0026227140506894947, 0.9552615880966187]\n"
     ]
    }
   ],
   "source": [
    "print(score)"
   ]
  },
  {
   "cell_type": "code",
   "execution_count": 29,
   "metadata": {},
   "outputs": [
    {
     "data": {
      "text/plain": [
       "<matplotlib.legend.Legend at 0x7fed8247f5f8>"
      ]
     },
     "execution_count": 29,
     "metadata": {},
     "output_type": "execute_result"
    },
    {
     "data": {
      "image/png": "[encoded data removed]",
      "text/plain": [
       "<Figure size 864x576 with 2 Axes>"
      ]
     },
     "metadata": {
      "needs_background": "light"
     },
     "output_type": "display_data"
    }
   ],
   "source": [
    "plt.figure(figsize=(12, 8))\n",
    "\n",
    "plt.subplot(2, 2, 1)\n",
    "plt.plot(r.history['loss'], label='Loss')\n",
    "plt.plot(r.history['val_loss'], label='val_Loss')\n",
    "plt.legend()\n",
    "\n",
    "plt.subplot(2, 2, 2)\n",
    "plt.plot(r.history['auc_1'], label='auc_1')\n",
    "plt.plot(r.history['val_auc_1'], label='val_auc_1')\n",
    "plt.legend()"
   ]
  },
  {
   "cell_type": "code",
   "execution_count": 30,
   "metadata": {},
   "outputs": [
    {
     "name": "stdout",
     "output_type": "stream",
     "text": [
      "Train Result:\n",
      "================================================\n",
      "Accuracy Score: 99.95%\n",
      "_______________________________________________\n",
      "Classification Report:\tPrecision Score: 90.55%\n",
      "\t\t\tRecall Score: 80.14%\n",
      "\t\t\tF1 score: 85.03%\n",
      "_______________________________________________\n",
      "Confusion Matrix: \n",
      " [[159180     24]\n",
      " [    57    230]]\n",
      "\n",
      "Test Result:\n",
      "================================================\n",
      "Accuracy Score: 99.94%\n",
      "_______________________________________________\n",
      "Classification Report:\tPrecision Score: 82.48%\n",
      "\t\t\tRecall Score: 83.09%\n",
      "\t\t\tF1 score: 82.78%\n",
      "_______________________________________________\n",
      "Confusion Matrix: \n",
      " [[85283    24]\n",
      " [   23   113]]\n",
      "\n"
     ]
    }
   ],
   "source": [
    "y_train_pred = model.predict(X_train_d)\n",
    "y_test_pred = model.predict(X_test_d)\n",
    "\n",
    "print_score(y_train, y_train_pred.round(), train=True)\n",
    "print_score(y_test, y_test_pred.round(), train=False)"
   ]
  },
  {
   "cell_type": "markdown",
   "metadata": {},
   "source": [
    "## Adding MaxPooling"
   ]
  },
  {
   "cell_type": "code",
   "execution_count": 31,
   "metadata": {
    "_kg_hide-output": true
   },
   "outputs": [
    {
     "name": "stdout",
     "output_type": "stream",
     "text": [
      "Train on 159491 samples, validate on 39873 samples\n",
      "Epoch 1/10\n",
      "159491/159491 [==============================] - 36s 226us/step - loss: 0.0373 - auc_2: 0.5674 - val_loss: 0.0186 - val_auc_2: 0.9290\n",
      "Epoch 2/10\n",
      "159491/159491 [==============================] - 34s 216us/step - loss: 0.0100 - auc_2: 0.8448 - val_loss: 0.0114 - val_auc_2: 0.9334\n",
      "Epoch 3/10\n",
      "159491/159491 [==============================] - 35s 218us/step - loss: 0.0079 - auc_2: 0.8744 - val_loss: 0.0072 - val_auc_2: 0.9308\n",
      "Epoch 4/10\n",
      "159491/159491 [==============================] - 34s 215us/step - loss: 0.0070 - auc_2: 0.8950 - val_loss: 0.0062 - val_auc_2: 0.9238\n",
      "Epoch 5/10\n",
      "159491/159491 [==============================] - 35s 220us/step - loss: 0.0062 - auc_2: 0.9031 - val_loss: 0.0058 - val_auc_2: 0.9305\n",
      "Epoch 6/10\n",
      "159491/159491 [==============================] - 34s 215us/step - loss: 0.0059 - auc_2: 0.9149 - val_loss: 0.0061 - val_auc_2: 0.9306\n",
      "Epoch 7/10\n",
      "159491/159491 [==============================] - 34s 214us/step - loss: 0.0050 - auc_2: 0.9139 - val_loss: 0.0056 - val_auc_2: 0.9245\n",
      "Epoch 8/10\n",
      "159491/159491 [==============================] - 34s 216us/step - loss: 0.0051 - auc_2: 0.9243 - val_loss: 0.0054 - val_auc_2: 0.9245\n",
      "Epoch 9/10\n",
      "159491/159491 [==============================] - 36s 226us/step - loss: 0.0047 - auc_2: 0.9283 - val_loss: 0.0044 - val_auc_2: 0.9252\n",
      "Epoch 10/10\n",
      "159491/159491 [==============================] - 34s 213us/step - loss: 0.0046 - auc_2: 0.9387 - val_loss: 0.0045 - val_auc_2: 0.9394\n"
     ]
    }
   ],
   "source": [
    "epochs = 10\n",
    "model = Sequential()\n",
    "model.add(Conv1D(32, 2, activation='relu', input_shape=X_train_d[0].shape))\n",
    "model.add(BatchNormalization())\n",
    "model.add(MaxPooling1D(2))\n",
    "model.add(Dropout(0.1))\n",
    "\n",
    "model.add(Conv1D(64, 2, activation='relu'))\n",
    "model.add(BatchNormalization())\n",
    "model.add(MaxPooling1D(2))\n",
    "model.add(Dropout(0.2))\n",
    "\n",
    "model.add(Conv1D(64, 2, activation='relu'))\n",
    "model.add(BatchNormalization())\n",
    "model.add(MaxPooling1D(2))\n",
    "model.add(Dropout(0.3))\n",
    "\n",
    "model.add(Flatten())\n",
    "model.add(Dropout(0.4))\n",
    "model.add(Dense(256, activation='relu'))\n",
    "model.add(Dropout(0.4))\n",
    "\n",
    "model.add(Dense(1, activation='sigmoid'))\n",
    "\n",
    "# weights = {0:1, 1:5}\n",
    "model.compile(optimizer=Adam(0.0001), loss='binary_crossentropy', metrics=[keras.metrics.AUC()])\n",
    "r = model.fit(X_train_d, y_train, \n",
    "              validation_data=(X_validate_d, y_validate),\n",
    "              batch_size=50, \n",
    "              epochs=epochs, \n",
    "#               class_weight=weights\n",
    "             )"
   ]
  },
  {
   "cell_type": "code",
   "execution_count": 32,
   "metadata": {},
   "outputs": [
    {
     "name": "stdout",
     "output_type": "stream",
     "text": [
      "85443/85443 [==============================] - 6s 68us/step\n",
      "[0.003859348079846444, 0.9651643633842468]\n"
     ]
    }
   ],
   "source": [
    "score = model.evaluate(X_test_d, y_test)\n",
    "print(score)"
   ]
  },
  {
   "cell_type": "code",
   "execution_count": 33,
   "metadata": {},
   "outputs": [
    {
     "data": {
      "text/plain": [
       "<matplotlib.legend.Legend at 0x7fed81b88b70>"
      ]
     },
     "execution_count": 33,
     "metadata": {},
     "output_type": "execute_result"
    },
    {
     "data": {
      "image/png": "[encoded data removed]",
      "text/plain": [
       "<Figure size 864x576 with 2 Axes>"
      ]
     },
     "metadata": {
      "needs_background": "light"
     },
     "output_type": "display_data"
    }
   ],
   "source": [
    "plt.figure(figsize=(12, 8))\n",
    "\n",
    "plt.subplot(2, 2, 1)\n",
    "plt.plot(r.history['loss'], label='Loss')\n",
    "plt.plot(r.history['val_loss'], label='val_Loss')\n",
    "plt.legend()\n",
    "\n",
    "plt.subplot(2, 2, 2)\n",
    "plt.plot(r.history['auc_2'], label='auc_2')\n",
    "plt.plot(r.history['val_auc_2'], label='val_auc_2')\n",
    "plt.legend()"
   ]
  },
  {
   "cell_type": "code",
   "execution_count": 34,
   "metadata": {},
   "outputs": [
    {
     "name": "stdout",
     "output_type": "stream",
     "text": [
      "Train Result:\n",
      "================================================\n",
      "Accuracy Score: 99.93%\n",
      "_______________________________________________\n",
      "Classification Report:\tPrecision Score: 81.91%\n",
      "\t\t\tRecall Score: 80.49%\n",
      "\t\t\tF1 score: 81.20%\n",
      "_______________________________________________\n",
      "Confusion Matrix: \n",
      " [[159153     51]\n",
      " [    56    231]]\n",
      "\n",
      "Test Result:\n",
      "================================================\n",
      "Accuracy Score: 99.92%\n",
      "_______________________________________________\n",
      "Classification Report:\tPrecision Score: 73.33%\n",
      "\t\t\tRecall Score: 80.88%\n",
      "\t\t\tF1 score: 76.92%\n",
      "_______________________________________________\n",
      "Confusion Matrix: \n",
      " [[85267    40]\n",
      " [   26   110]]\n",
      "\n"
     ]
    }
   ],
   "source": [
    "y_train_pred = model.predict(X_train_d)\n",
    "y_test_pred = model.predict(X_test_d)\n",
    "\n",
    "print_score(y_train, y_train_pred.round(), train=True)\n",
    "print_score(y_test, y_test_pred.round(), train=False)"
   ]
  },
  {
   "cell_type": "markdown",
   "metadata": {},
   "source": [
    "# Model Building (Downsampling the majority class)"
   ]
  },
  {
   "cell_type": "code",
   "execution_count": 35,
   "metadata": {},
   "outputs": [
    {
     "data": {
      "text/html": [
       "<div>\n",
       "<style scoped>\n",
       "    .dataframe tbody tr th:only-of-type {\n",
       "        vertical-align: middle;\n",
       "    }\n",
       "\n",
       "    .dataframe tbody tr th {\n",
       "        vertical-align: top;\n",
       "    }\n",
       "\n",
       "    .dataframe thead th {\n",
       "        text-align: right;\n",
       "    }\n",
       "</style>\n",
       "<table border=\"1\" class=\"dataframe\">\n",
       "  <thead>\n",
       "    <tr style=\"text-align: right;\">\n",
       "      <th></th>\n",
       "      <th>Time</th>\n",
       "      <th>V1</th>\n",
       "      <th>V2</th>\n",
       "      <th>V3</th>\n",
       "      <th>V4</th>\n",
       "      <th>V5</th>\n",
       "      <th>V6</th>\n",
       "      <th>V7</th>\n",
       "      <th>V8</th>\n",
       "      <th>V9</th>\n",
       "      <th>...</th>\n",
       "      <th>V21</th>\n",
       "      <th>V22</th>\n",
       "      <th>V23</th>\n",
       "      <th>V24</th>\n",
       "      <th>V25</th>\n",
       "      <th>V26</th>\n",
       "      <th>V27</th>\n",
       "      <th>V28</th>\n",
       "      <th>Amount</th>\n",
       "      <th>Class</th>\n",
       "    </tr>\n",
       "  </thead>\n",
       "  <tbody>\n",
       "    <tr>\n",
       "      <th>2557</th>\n",
       "      <td>2105.00</td>\n",
       "      <td>-2.29</td>\n",
       "      <td>-0.48</td>\n",
       "      <td>0.82</td>\n",
       "      <td>-1.71</td>\n",
       "      <td>0.82</td>\n",
       "      <td>-1.66</td>\n",
       "      <td>0.94</td>\n",
       "      <td>-0.54</td>\n",
       "      <td>1.32</td>\n",
       "      <td>...</td>\n",
       "      <td>-0.21</td>\n",
       "      <td>0.91</td>\n",
       "      <td>0.87</td>\n",
       "      <td>0.42</td>\n",
       "      <td>0.31</td>\n",
       "      <td>-0.78</td>\n",
       "      <td>0.39</td>\n",
       "      <td>-0.15</td>\n",
       "      <td>1.00</td>\n",
       "      <td>0</td>\n",
       "    </tr>\n",
       "    <tr>\n",
       "      <th>247823</th>\n",
       "      <td>153702.00</td>\n",
       "      <td>-0.31</td>\n",
       "      <td>-4.06</td>\n",
       "      <td>-3.40</td>\n",
       "      <td>0.70</td>\n",
       "      <td>0.10</td>\n",
       "      <td>1.53</td>\n",
       "      <td>1.55</td>\n",
       "      <td>-0.04</td>\n",
       "      <td>0.02</td>\n",
       "      <td>...</td>\n",
       "      <td>0.85</td>\n",
       "      <td>-0.09</td>\n",
       "      <td>-0.94</td>\n",
       "      <td>-0.83</td>\n",
       "      <td>-0.50</td>\n",
       "      <td>0.65</td>\n",
       "      <td>-0.29</td>\n",
       "      <td>0.11</td>\n",
       "      <td>1194.28</td>\n",
       "      <td>0</td>\n",
       "    </tr>\n",
       "    <tr>\n",
       "      <th>152342</th>\n",
       "      <td>97283.00</td>\n",
       "      <td>-1.81</td>\n",
       "      <td>-0.57</td>\n",
       "      <td>2.27</td>\n",
       "      <td>-0.96</td>\n",
       "      <td>-1.21</td>\n",
       "      <td>1.52</td>\n",
       "      <td>-1.42</td>\n",
       "      <td>0.90</td>\n",
       "      <td>1.96</td>\n",
       "      <td>...</td>\n",
       "      <td>-0.51</td>\n",
       "      <td>-0.42</td>\n",
       "      <td>-0.27</td>\n",
       "      <td>0.01</td>\n",
       "      <td>0.47</td>\n",
       "      <td>0.84</td>\n",
       "      <td>-0.06</td>\n",
       "      <td>0.09</td>\n",
       "      <td>75.00</td>\n",
       "      <td>0</td>\n",
       "    </tr>\n",
       "    <tr>\n",
       "      <th>103385</th>\n",
       "      <td>68628.00</td>\n",
       "      <td>1.19</td>\n",
       "      <td>0.18</td>\n",
       "      <td>0.14</td>\n",
       "      <td>0.46</td>\n",
       "      <td>-0.05</td>\n",
       "      <td>-0.11</td>\n",
       "      <td>-0.16</td>\n",
       "      <td>0.16</td>\n",
       "      <td>-0.07</td>\n",
       "      <td>...</td>\n",
       "      <td>-0.24</td>\n",
       "      <td>-0.74</td>\n",
       "      <td>0.12</td>\n",
       "      <td>-0.37</td>\n",
       "      <td>0.13</td>\n",
       "      <td>0.13</td>\n",
       "      <td>-0.02</td>\n",
       "      <td>0.01</td>\n",
       "      <td>1.98</td>\n",
       "      <td>0</td>\n",
       "    </tr>\n",
       "    <tr>\n",
       "      <th>8771</th>\n",
       "      <td>11951.00</td>\n",
       "      <td>-0.96</td>\n",
       "      <td>0.70</td>\n",
       "      <td>1.10</td>\n",
       "      <td>-1.55</td>\n",
       "      <td>0.67</td>\n",
       "      <td>0.51</td>\n",
       "      <td>0.33</td>\n",
       "      <td>0.27</td>\n",
       "      <td>1.38</td>\n",
       "      <td>...</td>\n",
       "      <td>-0.28</td>\n",
       "      <td>-0.47</td>\n",
       "      <td>-0.12</td>\n",
       "      <td>-1.39</td>\n",
       "      <td>-0.24</td>\n",
       "      <td>0.79</td>\n",
       "      <td>0.35</td>\n",
       "      <td>0.22</td>\n",
       "      <td>37.31</td>\n",
       "      <td>0</td>\n",
       "    </tr>\n",
       "  </tbody>\n",
       "</table>\n",
       "<p>5 rows × 31 columns</p>\n",
       "</div>"
      ],
      "text/plain": [
       "            Time    V1    V2    V3    V4    V5    V6    V7    V8    V9  ...  \\\n",
       "2557     2105.00 -2.29 -0.48  0.82 -1.71  0.82 -1.66  0.94 -0.54  1.32  ...   \n",
       "247823 153702.00 -0.31 -4.06 -3.40  0.70  0.10  1.53  1.55 -0.04  0.02  ...   \n",
       "152342  97283.00 -1.81 -0.57  2.27 -0.96 -1.21  1.52 -1.42  0.90  1.96  ...   \n",
       "103385  68628.00  1.19  0.18  0.14  0.46 -0.05 -0.11 -0.16  0.16 -0.07  ...   \n",
       "8771    11951.00 -0.96  0.70  1.10 -1.55  0.67  0.51  0.33  0.27  1.38  ...   \n",
       "\n",
       "         V21   V22   V23   V24   V25   V26   V27   V28  Amount  Class  \n",
       "2557   -0.21  0.91  0.87  0.42  0.31 -0.78  0.39 -0.15    1.00      0  \n",
       "247823  0.85 -0.09 -0.94 -0.83 -0.50  0.65 -0.29  0.11 1194.28      0  \n",
       "152342 -0.51 -0.42 -0.27  0.01  0.47  0.84 -0.06  0.09   75.00      0  \n",
       "103385 -0.24 -0.74  0.12 -0.37  0.13  0.13 -0.02  0.01    1.98      0  \n",
       "8771   -0.28 -0.47 -0.12 -1.39 -0.24  0.79  0.35  0.22   37.31      0  \n",
       "\n",
       "[5 rows x 31 columns]"
      ]
     },
     "execution_count": 35,
     "metadata": {},
     "output_type": "execute_result"
    }
   ],
   "source": [
    "X = data.drop('Class', axis=1)\n",
    "y = data.Class\n",
    "\n",
    "X_train, X_test, y_train, y_test = train_test_split(X, y, test_size=0.3, random_state=42)\n",
    "\n",
    "# Concatinating X_train and y_train\n",
    "df = pd.concat([pd.DataFrame(X_train), pd.DataFrame(y_train)], axis=1)\n",
    "df.head()"
   ]
  },
  {
   "cell_type": "code",
   "execution_count": 36,
   "metadata": {},
   "outputs": [
    {
     "data": {
      "text/plain": [
       "(199364, 31)"
      ]
     },
     "execution_count": 36,
     "metadata": {},
     "output_type": "execute_result"
    }
   ],
   "source": [
    "df.shape"
   ]
  },
  {
   "cell_type": "code",
   "execution_count": 37,
   "metadata": {},
   "outputs": [
    {
     "data": {
      "text/plain": [
       "1    356\n",
       "0    356\n",
       "Name: Class, dtype: int64"
      ]
     },
     "execution_count": 37,
     "metadata": {},
     "output_type": "execute_result"
    }
   ],
   "source": [
    "from sklearn.utils import resample\n",
    "\n",
    "minority_class = df[df.Class == 1]\n",
    "majority_class = df[df.Class == 0]\n",
    "\n",
    "majority_downsample = resample(majority_class, replace=False, \n",
    "                               n_samples=minority_class.shape[0], \n",
    "                               random_state=42)\n",
    "\n",
    "df_2 = pd.concat([majority_downsample, minority_class])\n",
    "df_2.Class.value_counts()"
   ]
  },
  {
   "cell_type": "code",
   "execution_count": 38,
   "metadata": {},
   "outputs": [
    {
     "data": {
      "text/plain": [
       "(712, 31)"
      ]
     },
     "execution_count": 38,
     "metadata": {},
     "output_type": "execute_result"
    }
   ],
   "source": [
    "df_2.shape"
   ]
  },
  {
   "cell_type": "code",
   "execution_count": 39,
   "metadata": {},
   "outputs": [],
   "source": [
    "scaler = StandardScaler()\n",
    "\n",
    "X = df_2.drop('Class', axis=1)\n",
    "y = df_2.Class\n",
    "\n",
    "X_train, X_validate, y_train, y_validate = train_test_split(X, y, test_size=0.3, random_state=42)\n",
    "\n",
    "X_train = scaler.fit_transform(X_train)\n",
    "X_validate = scaler.transform(X_validate)\n",
    "X_test = scaler.transform(X_test)"
   ]
  },
  {
   "cell_type": "code",
   "execution_count": 40,
   "metadata": {},
   "outputs": [
    {
     "name": "stdout",
     "output_type": "stream",
     "text": [
      "(498, 30, 1)\n",
      "(498,)\n",
      "(214, 30, 1)\n",
      "(214,)\n",
      "(85443, 30, 1)\n",
      "(85443,)\n"
     ]
    }
   ],
   "source": [
    "X_train = np.expand_dims(X_train, -1)\n",
    "X_test = np.expand_dims(X_test, -1)\n",
    "X_validate = np.expand_dims(X_validate, -1)\n",
    "\n",
    "print(X_train.shape)\n",
    "print(y_train.shape)\n",
    "print(X_validate.shape)\n",
    "print(y_validate.shape)\n",
    "print(X_test.shape)\n",
    "print(y_test.shape)"
   ]
  },
  {
   "cell_type": "code",
   "execution_count": 41,
   "metadata": {
    "_kg_hide-output": true
   },
   "outputs": [
    {
     "name": "stdout",
     "output_type": "stream",
     "text": [
      "Train on 498 samples, validate on 214 samples\n",
      "Epoch 1/150\n",
      "498/498 [==============================] - 1s 3ms/step - loss: 1.0889 - accuracy: 0.5723 - val_loss: 0.6997 - val_accuracy: 0.3505\n",
      "Epoch 2/150\n",
      "498/498 [==============================] - 0s 671us/step - loss: 0.9790 - accuracy: 0.5964 - val_loss: 0.6922 - val_accuracy: 0.4533\n",
      "Epoch 3/150\n",
      "498/498 [==============================] - 0s 674us/step - loss: 0.8516 - accuracy: 0.6325 - val_loss: 0.6803 - val_accuracy: 0.6168\n",
      "Epoch 4/150\n",
      "498/498 [==============================] - 0s 670us/step - loss: 0.7069 - accuracy: 0.7108 - val_loss: 0.6671 - val_accuracy: 0.7757\n",
      "Epoch 5/150\n",
      "498/498 [==============================] - 0s 675us/step - loss: 0.7117 - accuracy: 0.7068 - val_loss: 0.6522 - val_accuracy: 0.8411\n",
      "Epoch 6/150\n",
      "498/498 [==============================] - 0s 746us/step - loss: 0.5716 - accuracy: 0.7550 - val_loss: 0.6355 - val_accuracy: 0.8458\n",
      "Epoch 7/150\n",
      "498/498 [==============================] - 0s 670us/step - loss: 0.5367 - accuracy: 0.7871 - val_loss: 0.6188 - val_accuracy: 0.8598\n",
      "Epoch 8/150\n",
      "498/498 [==============================] - 0s 663us/step - loss: 0.5547 - accuracy: 0.7651 - val_loss: 0.6016 - val_accuracy: 0.8505\n",
      "Epoch 9/150\n",
      "498/498 [==============================] - 0s 680us/step - loss: 0.4962 - accuracy: 0.8052 - val_loss: 0.5848 - val_accuracy: 0.8598\n",
      "Epoch 10/150\n",
      "498/498 [==============================] - 0s 729us/step - loss: 0.5240 - accuracy: 0.7791 - val_loss: 0.5671 - val_accuracy: 0.8645\n",
      "Epoch 11/150\n",
      "498/498 [==============================] - 0s 686us/step - loss: 0.5430 - accuracy: 0.7851 - val_loss: 0.5479 - val_accuracy: 0.8692\n",
      "Epoch 12/150\n",
      "498/498 [==============================] - 0s 692us/step - loss: 0.4366 - accuracy: 0.8253 - val_loss: 0.5283 - val_accuracy: 0.8692\n",
      "Epoch 13/150\n",
      "498/498 [==============================] - 0s 665us/step - loss: 0.4470 - accuracy: 0.8012 - val_loss: 0.5089 - val_accuracy: 0.8785\n",
      "Epoch 14/150\n",
      "498/498 [==============================] - 0s 663us/step - loss: 0.4241 - accuracy: 0.8173 - val_loss: 0.4894 - val_accuracy: 0.8785\n",
      "Epoch 15/150\n",
      "498/498 [==============================] - 0s 688us/step - loss: 0.4296 - accuracy: 0.8333 - val_loss: 0.4713 - val_accuracy: 0.8785\n",
      "Epoch 16/150\n",
      "498/498 [==============================] - 0s 771us/step - loss: 0.4317 - accuracy: 0.8373 - val_loss: 0.4540 - val_accuracy: 0.8785\n",
      "Epoch 17/150\n",
      "498/498 [==============================] - 0s 708us/step - loss: 0.4270 - accuracy: 0.8333 - val_loss: 0.4364 - val_accuracy: 0.8972\n",
      "Epoch 18/150\n",
      "498/498 [==============================] - 0s 676us/step - loss: 0.3867 - accuracy: 0.8514 - val_loss: 0.4184 - val_accuracy: 0.8972\n",
      "Epoch 19/150\n",
      "498/498 [==============================] - 0s 655us/step - loss: 0.3783 - accuracy: 0.8494 - val_loss: 0.4013 - val_accuracy: 0.8925\n",
      "Epoch 20/150\n",
      "498/498 [==============================] - 0s 732us/step - loss: 0.3985 - accuracy: 0.8474 - val_loss: 0.3839 - val_accuracy: 0.8972\n",
      "Epoch 21/150\n",
      "498/498 [==============================] - 0s 667us/step - loss: 0.3710 - accuracy: 0.8474 - val_loss: 0.3665 - val_accuracy: 0.9065\n",
      "Epoch 22/150\n",
      "498/498 [==============================] - 0s 665us/step - loss: 0.4160 - accuracy: 0.8655 - val_loss: 0.3499 - val_accuracy: 0.9065\n",
      "Epoch 23/150\n",
      "498/498 [==============================] - 0s 675us/step - loss: 0.3819 - accuracy: 0.8414 - val_loss: 0.3369 - val_accuracy: 0.9112\n",
      "Epoch 24/150\n",
      "498/498 [==============================] - 0s 700us/step - loss: 0.3213 - accuracy: 0.8715 - val_loss: 0.3228 - val_accuracy: 0.9112\n",
      "Epoch 25/150\n",
      "498/498 [==============================] - 0s 664us/step - loss: 0.3741 - accuracy: 0.8474 - val_loss: 0.3090 - val_accuracy: 0.9112\n",
      "Epoch 26/150\n",
      "498/498 [==============================] - 0s 688us/step - loss: 0.3081 - accuracy: 0.8795 - val_loss: 0.2969 - val_accuracy: 0.9252\n",
      "Epoch 27/150\n",
      "498/498 [==============================] - 0s 669us/step - loss: 0.2777 - accuracy: 0.8996 - val_loss: 0.2862 - val_accuracy: 0.9252\n",
      "Epoch 28/150\n",
      "498/498 [==============================] - 0s 670us/step - loss: 0.3383 - accuracy: 0.8554 - val_loss: 0.2754 - val_accuracy: 0.9299\n",
      "Epoch 29/150\n",
      "498/498 [==============================] - 0s 659us/step - loss: 0.3401 - accuracy: 0.8755 - val_loss: 0.2672 - val_accuracy: 0.9346\n",
      "Epoch 30/150\n",
      "498/498 [==============================] - 0s 672us/step - loss: 0.3452 - accuracy: 0.8775 - val_loss: 0.2590 - val_accuracy: 0.9346\n",
      "Epoch 31/150\n",
      "498/498 [==============================] - 0s 687us/step - loss: 0.3289 - accuracy: 0.8735 - val_loss: 0.2519 - val_accuracy: 0.9346\n",
      "Epoch 32/150\n",
      "498/498 [==============================] - 0s 670us/step - loss: 0.3236 - accuracy: 0.8815 - val_loss: 0.2452 - val_accuracy: 0.9346\n",
      "Epoch 33/150\n",
      "498/498 [==============================] - 0s 672us/step - loss: 0.3744 - accuracy: 0.8715 - val_loss: 0.2376 - val_accuracy: 0.9393\n",
      "Epoch 34/150\n",
      "498/498 [==============================] - 0s 694us/step - loss: 0.2926 - accuracy: 0.8896 - val_loss: 0.2310 - val_accuracy: 0.9439\n",
      "Epoch 35/150\n",
      "498/498 [==============================] - 0s 657us/step - loss: 0.2714 - accuracy: 0.8876 - val_loss: 0.2257 - val_accuracy: 0.9439\n",
      "Epoch 36/150\n",
      "498/498 [==============================] - 0s 675us/step - loss: 0.3259 - accuracy: 0.8614 - val_loss: 0.2208 - val_accuracy: 0.9439\n",
      "Epoch 37/150\n",
      "498/498 [==============================] - 0s 673us/step - loss: 0.2711 - accuracy: 0.8936 - val_loss: 0.2166 - val_accuracy: 0.9439\n",
      "Epoch 38/150\n",
      "498/498 [==============================] - 0s 661us/step - loss: 0.3091 - accuracy: 0.8876 - val_loss: 0.2138 - val_accuracy: 0.9439\n",
      "Epoch 39/150\n",
      "498/498 [==============================] - 0s 674us/step - loss: 0.2995 - accuracy: 0.8896 - val_loss: 0.2111 - val_accuracy: 0.9439\n",
      "Epoch 40/150\n",
      "498/498 [==============================] - 0s 678us/step - loss: 0.3108 - accuracy: 0.8815 - val_loss: 0.2086 - val_accuracy: 0.9439\n",
      "Epoch 41/150\n",
      "498/498 [==============================] - 0s 665us/step - loss: 0.2823 - accuracy: 0.8876 - val_loss: 0.2068 - val_accuracy: 0.9439\n",
      "Epoch 42/150\n",
      "498/498 [==============================] - 0s 686us/step - loss: 0.3551 - accuracy: 0.8755 - val_loss: 0.2057 - val_accuracy: 0.9393\n",
      "Epoch 43/150\n",
      "498/498 [==============================] - 0s 677us/step - loss: 0.2075 - accuracy: 0.9257 - val_loss: 0.2047 - val_accuracy: 0.9393\n",
      "Epoch 44/150\n",
      "498/498 [==============================] - 0s 689us/step - loss: 0.2335 - accuracy: 0.9197 - val_loss: 0.2038 - val_accuracy: 0.9393\n",
      "Epoch 45/150\n",
      "498/498 [==============================] - 0s 668us/step - loss: 0.2832 - accuracy: 0.8956 - val_loss: 0.2030 - val_accuracy: 0.9393\n",
      "Epoch 46/150\n",
      "498/498 [==============================] - 0s 665us/step - loss: 0.3023 - accuracy: 0.8896 - val_loss: 0.2026 - val_accuracy: 0.9393\n",
      "Epoch 47/150\n",
      "498/498 [==============================] - 0s 670us/step - loss: 0.3121 - accuracy: 0.9076 - val_loss: 0.2026 - val_accuracy: 0.9393\n",
      "Epoch 48/150\n",
      "498/498 [==============================] - 0s 668us/step - loss: 0.2757 - accuracy: 0.9096 - val_loss: 0.2029 - val_accuracy: 0.9393\n",
      "Epoch 49/150\n",
      "498/498 [==============================] - 0s 665us/step - loss: 0.2858 - accuracy: 0.8896 - val_loss: 0.2040 - val_accuracy: 0.9393\n",
      "Epoch 50/150\n",
      "498/498 [==============================] - 0s 687us/step - loss: 0.2876 - accuracy: 0.8996 - val_loss: 0.2049 - val_accuracy: 0.9393\n",
      "Epoch 51/150\n",
      "498/498 [==============================] - 0s 671us/step - loss: 0.2861 - accuracy: 0.8896 - val_loss: 0.2052 - val_accuracy: 0.9346\n",
      "Epoch 52/150\n",
      "498/498 [==============================] - 0s 662us/step - loss: 0.2702 - accuracy: 0.9036 - val_loss: 0.2061 - val_accuracy: 0.9346\n",
      "Epoch 53/150\n",
      "498/498 [==============================] - 0s 723us/step - loss: 0.2319 - accuracy: 0.9036 - val_loss: 0.2064 - val_accuracy: 0.9346\n",
      "Epoch 54/150\n",
      "498/498 [==============================] - 0s 687us/step - loss: 0.2995 - accuracy: 0.8936 - val_loss: 0.2071 - val_accuracy: 0.9346\n",
      "Epoch 55/150\n",
      "498/498 [==============================] - 0s 657us/step - loss: 0.2854 - accuracy: 0.8956 - val_loss: 0.2090 - val_accuracy: 0.9393\n",
      "Epoch 56/150\n",
      "498/498 [==============================] - 0s 659us/step - loss: 0.2939 - accuracy: 0.9076 - val_loss: 0.2094 - val_accuracy: 0.9346\n",
      "Epoch 57/150\n",
      "498/498 [==============================] - 0s 685us/step - loss: 0.2527 - accuracy: 0.8996 - val_loss: 0.2092 - val_accuracy: 0.9346\n",
      "Epoch 58/150\n",
      "498/498 [==============================] - 0s 678us/step - loss: 0.2159 - accuracy: 0.9157 - val_loss: 0.2087 - val_accuracy: 0.9346\n",
      "Epoch 59/150\n",
      "498/498 [==============================] - 0s 660us/step - loss: 0.2444 - accuracy: 0.9036 - val_loss: 0.2090 - val_accuracy: 0.9346\n",
      "Epoch 60/150\n",
      "498/498 [==============================] - 0s 657us/step - loss: 0.2453 - accuracy: 0.9137 - val_loss: 0.2099 - val_accuracy: 0.9346\n",
      "Epoch 61/150\n",
      "498/498 [==============================] - 0s 673us/step - loss: 0.2767 - accuracy: 0.9036 - val_loss: 0.2108 - val_accuracy: 0.9346\n",
      "Epoch 62/150\n",
      "498/498 [==============================] - 0s 679us/step - loss: 0.2555 - accuracy: 0.8996 - val_loss: 0.2112 - val_accuracy: 0.9346\n",
      "Epoch 63/150\n",
      "498/498 [==============================] - 0s 671us/step - loss: 0.2352 - accuracy: 0.9197 - val_loss: 0.2120 - val_accuracy: 0.9346\n",
      "Epoch 64/150\n",
      "498/498 [==============================] - 0s 674us/step - loss: 0.2608 - accuracy: 0.9096 - val_loss: 0.2122 - val_accuracy: 0.9346\n",
      "Epoch 65/150\n",
      "498/498 [==============================] - 0s 675us/step - loss: 0.2571 - accuracy: 0.8956 - val_loss: 0.2125 - val_accuracy: 0.9346\n",
      "Epoch 66/150\n",
      "498/498 [==============================] - 0s 666us/step - loss: 0.2682 - accuracy: 0.8976 - val_loss: 0.2134 - val_accuracy: 0.9346\n",
      "Epoch 67/150\n",
      "498/498 [==============================] - 0s 663us/step - loss: 0.2309 - accuracy: 0.9096 - val_loss: 0.2139 - val_accuracy: 0.9346\n",
      "Epoch 68/150\n",
      "498/498 [==============================] - 0s 693us/step - loss: 0.2385 - accuracy: 0.9116 - val_loss: 0.2141 - val_accuracy: 0.9346\n",
      "Epoch 69/150\n",
      "498/498 [==============================] - 0s 667us/step - loss: 0.2662 - accuracy: 0.8936 - val_loss: 0.2135 - val_accuracy: 0.9299\n",
      "Epoch 70/150\n",
      "498/498 [==============================] - 0s 686us/step - loss: 0.2391 - accuracy: 0.9056 - val_loss: 0.2139 - val_accuracy: 0.9299\n",
      "Epoch 71/150\n",
      "498/498 [==============================] - 0s 661us/step - loss: 0.2546 - accuracy: 0.9096 - val_loss: 0.2148 - val_accuracy: 0.9299\n",
      "Epoch 72/150\n",
      "498/498 [==============================] - 0s 668us/step - loss: 0.2083 - accuracy: 0.9357 - val_loss: 0.2148 - val_accuracy: 0.9299\n",
      "Epoch 73/150\n",
      "498/498 [==============================] - 0s 654us/step - loss: 0.2256 - accuracy: 0.9096 - val_loss: 0.2152 - val_accuracy: 0.9299\n",
      "Epoch 74/150\n",
      "498/498 [==============================] - 0s 693us/step - loss: 0.2600 - accuracy: 0.8916 - val_loss: 0.2157 - val_accuracy: 0.9299\n",
      "Epoch 75/150\n",
      "498/498 [==============================] - 0s 668us/step - loss: 0.2253 - accuracy: 0.9157 - val_loss: 0.2156 - val_accuracy: 0.9299\n",
      "Epoch 76/150\n",
      "498/498 [==============================] - 0s 657us/step - loss: 0.2297 - accuracy: 0.9177 - val_loss: 0.2153 - val_accuracy: 0.9299\n",
      "Epoch 77/150\n",
      "498/498 [==============================] - 0s 649us/step - loss: 0.2177 - accuracy: 0.9257 - val_loss: 0.2153 - val_accuracy: 0.9299\n",
      "Epoch 78/150\n",
      "498/498 [==============================] - 0s 665us/step - loss: 0.2670 - accuracy: 0.8876 - val_loss: 0.2161 - val_accuracy: 0.9299\n",
      "Epoch 79/150\n",
      "498/498 [==============================] - 0s 685us/step - loss: 0.2262 - accuracy: 0.9177 - val_loss: 0.2177 - val_accuracy: 0.9299\n",
      "Epoch 80/150\n",
      "498/498 [==============================] - 0s 667us/step - loss: 0.2275 - accuracy: 0.9076 - val_loss: 0.2188 - val_accuracy: 0.9299\n",
      "Epoch 81/150\n",
      "498/498 [==============================] - 0s 665us/step - loss: 0.2157 - accuracy: 0.8996 - val_loss: 0.2204 - val_accuracy: 0.9299\n",
      "Epoch 82/150\n",
      "498/498 [==============================] - 0s 660us/step - loss: 0.2078 - accuracy: 0.9237 - val_loss: 0.2208 - val_accuracy: 0.9299\n",
      "Epoch 83/150\n",
      "498/498 [==============================] - 0s 662us/step - loss: 0.2001 - accuracy: 0.9177 - val_loss: 0.2212 - val_accuracy: 0.9299\n",
      "Epoch 84/150\n",
      "498/498 [==============================] - 0s 682us/step - loss: 0.2038 - accuracy: 0.9197 - val_loss: 0.2208 - val_accuracy: 0.9299\n",
      "Epoch 85/150\n",
      "498/498 [==============================] - 0s 694us/step - loss: 0.2372 - accuracy: 0.9137 - val_loss: 0.2211 - val_accuracy: 0.9299\n",
      "Epoch 86/150\n",
      "498/498 [==============================] - 0s 715us/step - loss: 0.2656 - accuracy: 0.9217 - val_loss: 0.2208 - val_accuracy: 0.9299\n",
      "Epoch 87/150\n",
      "498/498 [==============================] - 0s 680us/step - loss: 0.2742 - accuracy: 0.9016 - val_loss: 0.2211 - val_accuracy: 0.9299\n",
      "Epoch 88/150\n",
      "498/498 [==============================] - 0s 663us/step - loss: 0.2757 - accuracy: 0.8956 - val_loss: 0.2210 - val_accuracy: 0.9299\n",
      "Epoch 89/150\n",
      "498/498 [==============================] - 0s 661us/step - loss: 0.2796 - accuracy: 0.8876 - val_loss: 0.2220 - val_accuracy: 0.9299\n",
      "Epoch 90/150\n",
      "498/498 [==============================] - 0s 678us/step - loss: 0.2194 - accuracy: 0.9297 - val_loss: 0.2221 - val_accuracy: 0.9299\n",
      "Epoch 91/150\n",
      "498/498 [==============================] - 0s 656us/step - loss: 0.2368 - accuracy: 0.9177 - val_loss: 0.2225 - val_accuracy: 0.9299\n",
      "Epoch 92/150\n",
      "498/498 [==============================] - 0s 668us/step - loss: 0.2345 - accuracy: 0.8996 - val_loss: 0.2227 - val_accuracy: 0.9299\n",
      "Epoch 93/150\n",
      "498/498 [==============================] - 0s 666us/step - loss: 0.2626 - accuracy: 0.9076 - val_loss: 0.2233 - val_accuracy: 0.9299\n",
      "Epoch 94/150\n",
      "498/498 [==============================] - 0s 650us/step - loss: 0.2266 - accuracy: 0.9137 - val_loss: 0.2232 - val_accuracy: 0.9299\n",
      "Epoch 95/150\n",
      "498/498 [==============================] - 0s 648us/step - loss: 0.2335 - accuracy: 0.9237 - val_loss: 0.2242 - val_accuracy: 0.9299\n",
      "Epoch 96/150\n",
      "498/498 [==============================] - 0s 663us/step - loss: 0.2082 - accuracy: 0.9177 - val_loss: 0.2241 - val_accuracy: 0.9299\n",
      "Epoch 97/150\n",
      "498/498 [==============================] - 0s 660us/step - loss: 0.2147 - accuracy: 0.9237 - val_loss: 0.2244 - val_accuracy: 0.9299\n",
      "Epoch 98/150\n",
      "498/498 [==============================] - 0s 681us/step - loss: 0.2514 - accuracy: 0.9096 - val_loss: 0.2247 - val_accuracy: 0.9299\n",
      "Epoch 99/150\n",
      "498/498 [==============================] - 0s 655us/step - loss: 0.1991 - accuracy: 0.9197 - val_loss: 0.2246 - val_accuracy: 0.9299\n",
      "Epoch 100/150\n",
      "498/498 [==============================] - 0s 644us/step - loss: 0.2200 - accuracy: 0.9157 - val_loss: 0.2248 - val_accuracy: 0.9299\n",
      "Epoch 101/150\n",
      "498/498 [==============================] - 0s 662us/step - loss: 0.2116 - accuracy: 0.9217 - val_loss: 0.2244 - val_accuracy: 0.9299\n",
      "Epoch 102/150\n",
      "498/498 [==============================] - 0s 662us/step - loss: 0.1880 - accuracy: 0.9357 - val_loss: 0.2238 - val_accuracy: 0.9299\n",
      "Epoch 103/150\n",
      "498/498 [==============================] - 0s 653us/step - loss: 0.2503 - accuracy: 0.9016 - val_loss: 0.2240 - val_accuracy: 0.9299\n",
      "Epoch 104/150\n",
      "498/498 [==============================] - 0s 656us/step - loss: 0.2072 - accuracy: 0.9237 - val_loss: 0.2238 - val_accuracy: 0.9299\n",
      "Epoch 105/150\n",
      "498/498 [==============================] - 0s 661us/step - loss: 0.1904 - accuracy: 0.9096 - val_loss: 0.2243 - val_accuracy: 0.9299\n",
      "Epoch 106/150\n",
      "498/498 [==============================] - 0s 648us/step - loss: 0.1889 - accuracy: 0.9237 - val_loss: 0.2251 - val_accuracy: 0.9346\n",
      "Epoch 107/150\n",
      "498/498 [==============================] - 0s 658us/step - loss: 0.2147 - accuracy: 0.9137 - val_loss: 0.2253 - val_accuracy: 0.9346\n",
      "Epoch 108/150\n",
      "498/498 [==============================] - 0s 658us/step - loss: 0.1938 - accuracy: 0.9317 - val_loss: 0.2251 - val_accuracy: 0.9346\n",
      "Epoch 109/150\n",
      "498/498 [==============================] - 0s 740us/step - loss: 0.2274 - accuracy: 0.9237 - val_loss: 0.2249 - val_accuracy: 0.9299\n",
      "Epoch 110/150\n",
      "498/498 [==============================] - 0s 694us/step - loss: 0.2450 - accuracy: 0.8996 - val_loss: 0.2245 - val_accuracy: 0.9299\n",
      "Epoch 111/150\n",
      "498/498 [==============================] - 0s 660us/step - loss: 0.2293 - accuracy: 0.9177 - val_loss: 0.2248 - val_accuracy: 0.9299\n",
      "Epoch 112/150\n",
      "498/498 [==============================] - 0s 668us/step - loss: 0.2057 - accuracy: 0.9297 - val_loss: 0.2246 - val_accuracy: 0.9299\n",
      "Epoch 113/150\n",
      "498/498 [==============================] - 0s 671us/step - loss: 0.1897 - accuracy: 0.9277 - val_loss: 0.2247 - val_accuracy: 0.9299\n",
      "Epoch 114/150\n",
      "498/498 [==============================] - 0s 647us/step - loss: 0.2300 - accuracy: 0.9116 - val_loss: 0.2247 - val_accuracy: 0.9299\n",
      "Epoch 115/150\n",
      "498/498 [==============================] - 0s 664us/step - loss: 0.2416 - accuracy: 0.9116 - val_loss: 0.2250 - val_accuracy: 0.9299\n",
      "Epoch 116/150\n",
      "498/498 [==============================] - 0s 650us/step - loss: 0.1973 - accuracy: 0.9297 - val_loss: 0.2254 - val_accuracy: 0.9299\n",
      "Epoch 117/150\n",
      "498/498 [==============================] - 0s 659us/step - loss: 0.1923 - accuracy: 0.9197 - val_loss: 0.2256 - val_accuracy: 0.9299\n",
      "Epoch 118/150\n",
      "498/498 [==============================] - 0s 664us/step - loss: 0.1962 - accuracy: 0.9337 - val_loss: 0.2255 - val_accuracy: 0.9299\n",
      "Epoch 119/150\n",
      "498/498 [==============================] - 0s 713us/step - loss: 0.1866 - accuracy: 0.9438 - val_loss: 0.2256 - val_accuracy: 0.9299\n",
      "Epoch 120/150\n",
      "498/498 [==============================] - 0s 675us/step - loss: 0.2068 - accuracy: 0.9277 - val_loss: 0.2254 - val_accuracy: 0.9299\n",
      "Epoch 121/150\n",
      "498/498 [==============================] - 0s 659us/step - loss: 0.1999 - accuracy: 0.9257 - val_loss: 0.2256 - val_accuracy: 0.9299\n",
      "Epoch 122/150\n",
      "498/498 [==============================] - 0s 668us/step - loss: 0.2124 - accuracy: 0.9277 - val_loss: 0.2259 - val_accuracy: 0.9299\n",
      "Epoch 123/150\n",
      "498/498 [==============================] - 0s 650us/step - loss: 0.2352 - accuracy: 0.9056 - val_loss: 0.2262 - val_accuracy: 0.9299\n",
      "Epoch 124/150\n",
      "498/498 [==============================] - 0s 654us/step - loss: 0.1800 - accuracy: 0.9297 - val_loss: 0.2260 - val_accuracy: 0.9299\n",
      "Epoch 125/150\n",
      "498/498 [==============================] - 0s 653us/step - loss: 0.1658 - accuracy: 0.9277 - val_loss: 0.2261 - val_accuracy: 0.9299\n",
      "Epoch 126/150\n",
      "498/498 [==============================] - 0s 688us/step - loss: 0.2316 - accuracy: 0.9197 - val_loss: 0.2256 - val_accuracy: 0.9299\n",
      "Epoch 127/150\n",
      "498/498 [==============================] - 0s 651us/step - loss: 0.2297 - accuracy: 0.9096 - val_loss: 0.2262 - val_accuracy: 0.9299\n",
      "Epoch 128/150\n",
      "498/498 [==============================] - 0s 693us/step - loss: 0.2055 - accuracy: 0.9277 - val_loss: 0.2263 - val_accuracy: 0.9299\n",
      "Epoch 129/150\n",
      "498/498 [==============================] - 0s 668us/step - loss: 0.2072 - accuracy: 0.9257 - val_loss: 0.2264 - val_accuracy: 0.9299\n",
      "Epoch 130/150\n",
      "498/498 [==============================] - 0s 675us/step - loss: 0.1956 - accuracy: 0.9317 - val_loss: 0.2266 - val_accuracy: 0.9299\n",
      "Epoch 131/150\n",
      "498/498 [==============================] - 0s 665us/step - loss: 0.2239 - accuracy: 0.9277 - val_loss: 0.2264 - val_accuracy: 0.9346\n",
      "Epoch 132/150\n",
      "498/498 [==============================] - 0s 661us/step - loss: 0.2270 - accuracy: 0.9217 - val_loss: 0.2262 - val_accuracy: 0.9346\n",
      "Epoch 133/150\n",
      "498/498 [==============================] - 0s 657us/step - loss: 0.2160 - accuracy: 0.9177 - val_loss: 0.2264 - val_accuracy: 0.9299\n",
      "Epoch 134/150\n",
      "498/498 [==============================] - 0s 667us/step - loss: 0.2011 - accuracy: 0.9197 - val_loss: 0.2270 - val_accuracy: 0.9299\n",
      "Epoch 135/150\n",
      "498/498 [==============================] - 0s 646us/step - loss: 0.2200 - accuracy: 0.9297 - val_loss: 0.2268 - val_accuracy: 0.9299\n",
      "Epoch 136/150\n",
      "498/498 [==============================] - 0s 668us/step - loss: 0.2019 - accuracy: 0.9297 - val_loss: 0.2265 - val_accuracy: 0.9299\n",
      "Epoch 137/150\n",
      "498/498 [==============================] - 0s 663us/step - loss: 0.1935 - accuracy: 0.9317 - val_loss: 0.2258 - val_accuracy: 0.9299\n",
      "Epoch 138/150\n",
      "498/498 [==============================] - 0s 662us/step - loss: 0.2094 - accuracy: 0.9277 - val_loss: 0.2259 - val_accuracy: 0.9299\n",
      "Epoch 139/150\n",
      "498/498 [==============================] - 0s 666us/step - loss: 0.1665 - accuracy: 0.9378 - val_loss: 0.2261 - val_accuracy: 0.9346\n",
      "Epoch 140/150\n",
      "498/498 [==============================] - 0s 669us/step - loss: 0.2038 - accuracy: 0.9257 - val_loss: 0.2261 - val_accuracy: 0.9346\n",
      "Epoch 141/150\n",
      "498/498 [==============================] - 0s 674us/step - loss: 0.2233 - accuracy: 0.9177 - val_loss: 0.2256 - val_accuracy: 0.9346\n",
      "Epoch 142/150\n",
      "498/498 [==============================] - 0s 657us/step - loss: 0.2021 - accuracy: 0.9398 - val_loss: 0.2253 - val_accuracy: 0.9299\n",
      "Epoch 143/150\n",
      "498/498 [==============================] - 0s 654us/step - loss: 0.1650 - accuracy: 0.9357 - val_loss: 0.2243 - val_accuracy: 0.9299\n",
      "Epoch 144/150\n",
      "498/498 [==============================] - 0s 665us/step - loss: 0.2002 - accuracy: 0.9297 - val_loss: 0.2239 - val_accuracy: 0.9299\n",
      "Epoch 145/150\n",
      "498/498 [==============================] - 0s 656us/step - loss: 0.2314 - accuracy: 0.9096 - val_loss: 0.2248 - val_accuracy: 0.9299\n",
      "Epoch 146/150\n",
      "498/498 [==============================] - 0s 663us/step - loss: 0.1765 - accuracy: 0.9197 - val_loss: 0.2254 - val_accuracy: 0.9299\n",
      "Epoch 147/150\n",
      "498/498 [==============================] - 0s 661us/step - loss: 0.1737 - accuracy: 0.9337 - val_loss: 0.2250 - val_accuracy: 0.9299\n",
      "Epoch 148/150\n",
      "498/498 [==============================] - 0s 654us/step - loss: 0.1948 - accuracy: 0.9317 - val_loss: 0.2249 - val_accuracy: 0.9299\n",
      "Epoch 149/150\n",
      "498/498 [==============================] - 0s 649us/step - loss: 0.2194 - accuracy: 0.9297 - val_loss: 0.2247 - val_accuracy: 0.9299\n",
      "Epoch 150/150\n",
      "498/498 [==============================] - 0s 663us/step - loss: 0.1690 - accuracy: 0.9337 - val_loss: 0.2245 - val_accuracy: 0.9299\n"
     ]
    }
   ],
   "source": [
    "epochs = 150\n",
    "model = Sequential()\n",
    "model.add(Conv1D(32, 2, activation='relu', input_shape=X_train[0].shape))\n",
    "model.add(BatchNormalization())\n",
    "model.add(Dropout(0.1))\n",
    "\n",
    "model.add(Conv1D(64, 2, activation='relu'))\n",
    "model.add(BatchNormalization())\n",
    "model.add(Dropout(0.2))\n",
    "\n",
    "model.add(Conv1D(128, 2, activation='relu'))\n",
    "model.add(BatchNormalization())\n",
    "model.add(Dropout(0.3))\n",
    "\n",
    "model.add(Flatten())\n",
    "model.add(Dropout(0.4))\n",
    "model.add(Dense(512, activation='relu'))\n",
    "model.add(Dropout(0.5))\n",
    "\n",
    "model.add(Dense(1, activation='sigmoid'))\n",
    "\n",
    "# weights = {0:1, 1:5}\n",
    "model.compile(optimizer=Adam(0.00001), loss='binary_crossentropy', metrics=[\"accuracy\"])\n",
    "r = model.fit(X_train, y_train, \n",
    "              validation_data=(X_validate, y_validate),\n",
    "              batch_size=50, \n",
    "              epochs=epochs, \n",
    "#               class_weight=weights\n",
    "             )"
   ]
  },
  {
   "cell_type": "code",
   "execution_count": 42,
   "metadata": {},
   "outputs": [
    {
     "name": "stdout",
     "output_type": "stream",
     "text": [
      "85443/85443 [==============================] - 14s 161us/step\n",
      "[0.11514130186204923, 0.9624779224395752]\n"
     ]
    }
   ],
   "source": [
    "score = model.evaluate(X_test, y_test)\n",
    "print(score)"
   ]
  },
  {
   "cell_type": "code",
   "execution_count": 43,
   "metadata": {},
   "outputs": [
    {
     "data": {
      "text/plain": [
       "<matplotlib.legend.Legend at 0x7feddda04dd8>"
      ]
     },
     "execution_count": 43,
     "metadata": {},
     "output_type": "execute_result"
    },
    {
     "data": {
      "image/png": "[encoded data removed]",
      "text/plain": [
       "<Figure size 864x576 with 2 Axes>"
      ]
     },
     "metadata": {
      "needs_background": "light"
     },
     "output_type": "display_data"
    }
   ],
   "source": [
    "plt.figure(figsize=(12, 8))\n",
    "\n",
    "plt.subplot(2, 2, 1)\n",
    "plt.plot(r.history['loss'], label='Loss')\n",
    "plt.plot(r.history['val_loss'], label='val_Loss')\n",
    "plt.legend()\n",
    "\n",
    "plt.subplot(2, 2, 2)\n",
    "plt.plot(r.history['accuracy'], label='accuracy')\n",
    "plt.plot(r.history['val_accuracy'], label='val_accuracy')\n",
    "plt.legend()"
   ]
  },
  {
   "cell_type": "code",
   "execution_count": 44,
   "metadata": {},
   "outputs": [
    {
     "name": "stdout",
     "output_type": "stream",
     "text": [
      "Train Result:\n",
      "================================================\n",
      "Accuracy Score: 95.98%\n",
      "_______________________________________________\n",
      "Classification Report:\tPrecision Score: 98.79%\n",
      "\t\t\tRecall Score: 93.49%\n",
      "\t\t\tF1 score: 96.06%\n",
      "_______________________________________________\n",
      "Confusion Matrix: \n",
      " [[234   3]\n",
      " [ 17 244]]\n",
      "\n",
      "Test Result:\n",
      "================================================\n",
      "Accuracy Score: 96.25%\n",
      "_______________________________________________\n",
      "Classification Report:\tPrecision Score: 3.74%\n",
      "\t\t\tRecall Score: 91.18%\n",
      "\t\t\tF1 score: 7.18%\n",
      "_______________________________________________\n",
      "Confusion Matrix: \n",
      " [[82113  3194]\n",
      " [   12   124]]\n",
      "\n"
     ]
    }
   ],
   "source": [
    "y_train_pred = model.predict(X_train)\n",
    "y_test_pred = model.predict(X_test)\n",
    "\n",
    "print_score(y_train, y_train_pred.round(), train=True)\n",
    "print_score(y_test, y_test_pred.round(), train=False)"
   ]
  }
 ],
 "metadata": {
  "kernelspec": {
   "display_name": "Python 3",
   "language": "python",
   "name": "python3"
  },
  "language_info": {
   "codemirror_mode": {
    "name": "ipython",
    "version": 3
   },
   "file_extension": ".py",
   "mimetype": "text/x-python",
   "name": "python",
   "nbconvert_exporter": "python",
   "pygments_lexer": "ipython3",
   "version": "3.8.2"
  }
 },
 "nbformat": 4,
 "nbformat_minor": 4
}
