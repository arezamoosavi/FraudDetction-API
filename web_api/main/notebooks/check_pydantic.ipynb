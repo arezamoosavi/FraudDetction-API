{
 "cells": [
  {
   "cell_type": "code",
   "execution_count": 1,
   "metadata": {},
   "outputs": [],
   "source": [
    "from decimal import Decimal\n",
    "\n",
    "from pydantic import (\n",
    "    BaseModel,\n",
    "    NegativeFloat,\n",
    "    NegativeInt,\n",
    "    PositiveFloat,\n",
    "    PositiveInt,\n",
    "    conbytes,\n",
    "    condecimal,\n",
    "    confloat,\n",
    "    conint,\n",
    "    conlist,\n",
    "    constr,\n",
    "    Field,\n",
    ")"
   ]
  },
  {
   "cell_type": "code",
   "execution_count": 2,
   "metadata": {},
   "outputs": [],
   "source": [
    "class Model(BaseModel):\n",
    "    short_list: conlist(float, min_items=4, max_items=4)"
   ]
  },
  {
   "cell_type": "code",
   "execution_count": 7,
   "metadata": {},
   "outputs": [
    {
     "name": "stdout",
     "output_type": "stream",
     "text": [
      "[52000.0, 777.0, 888.0, 888.0]\n"
     ]
    }
   ],
   "source": [
    "print(Model(short_list=[52000,777,888,888]).short_list)"
   ]
  }
 ],
 "metadata": {
  "kernelspec": {
   "display_name": "Python 3",
   "language": "python",
   "name": "python3"
  },
  "language_info": {
   "codemirror_mode": {
    "name": "ipython",
    "version": 3
   },
   "file_extension": ".py",
   "mimetype": "text/x-python",
   "name": "python",
   "nbconvert_exporter": "python",
   "pygments_lexer": "ipython3",
   "version": "3.7.6"
  }
 },
 "nbformat": 4,
 "nbformat_minor": 4
}
